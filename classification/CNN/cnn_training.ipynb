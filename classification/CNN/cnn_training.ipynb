{
 "cells": [
  {
   "cell_type": "code",
   "execution_count": 1,
   "metadata": {},
   "outputs": [
    {
     "name": "stdout",
     "output_type": "stream",
     "text": [
      "cuda:3\n"
     ]
    }
   ],
   "source": [
    "import torch\n",
    "import torch.nn as nn\n",
    "import torch.nn.functional as F\n",
    "import numpy as np\n",
    "\n",
    "from textCNN import textCNN\n",
    "import word2vector\n",
    "import Pretrained_embedding\n",
    "from sklearn.model_selection import train_test_split\n",
    "import Train\n",
    "\n",
    "device = torch.device(\"cuda:3\" if torch.cuda.is_available() else \"cpu\")\n",
    "print(device)"
   ]
  },
  {
   "cell_type": "code",
   "execution_count": 2,
   "metadata": {},
   "outputs": [],
   "source": [
    "with open('./dataset/MovieReview/rt-polaritydata/rt-polarity.pos', 'r', encoding='latin-1') as f:\n",
    "    pos_sentences = f.readlines()"
   ]
  },
  {
   "cell_type": "code",
   "execution_count": 3,
   "metadata": {},
   "outputs": [],
   "source": [
    "with open('./dataset/MovieReview/rt-polaritydata/rt-polarity.neg', 'r', encoding='latin-1') as f:\n",
    "    neg_sentences = f.readlines()"
   ]
  },
  {
   "cell_type": "markdown",
   "metadata": {},
   "source": [
    "## normalized sentences"
   ]
  },
  {
   "cell_type": "code",
   "execution_count": 4,
   "metadata": {},
   "outputs": [],
   "source": [
    "pos_sentences = [word2vector.normalizeString(sentence) for sentence in pos_sentences]\n",
    "neg_sentences = [word2vector.normalizeString(sentence) for sentence in neg_sentences]"
   ]
  },
  {
   "cell_type": "markdown",
   "metadata": {},
   "source": [
    "# a. using word2vector"
   ]
  },
  {
   "cell_type": "markdown",
   "metadata": {},
   "source": [
    "## 1.build vocab"
   ]
  },
  {
   "cell_type": "code",
   "execution_count": 5,
   "metadata": {},
   "outputs": [],
   "source": [
    "Vocab = word2vector.Vocab('vocab')\n",
    "\n",
    "for i in pos_sentences:\n",
    "    Vocab.addSentence(i)\n",
    "    \n",
    "for i in neg_sentences:\n",
    "    Vocab.addSentence(i)"
   ]
  },
  {
   "cell_type": "markdown",
   "metadata": {},
   "source": [
    "## 2.transform sentences to index sequence"
   ]
  },
  {
   "cell_type": "code",
   "execution_count": 6,
   "metadata": {},
   "outputs": [
    {
     "name": "stdout",
     "output_type": "stream",
     "text": [
      "num of vocab 18161\n"
     ]
    }
   ],
   "source": [
    "MAX_LEN = 20\n",
    "embedding_tensors = None\n",
    "vocab_size = Vocab.num_vocab\n",
    "print('num of vocab', vocab_size)\n",
    "\n",
    "pos_seq = np.asarray([word2vector.indexesFromSentence(Vocab, sentence, MAX_LEN) for sentence in pos_sentences])\n",
    "neg_seq = np.asarray([word2vector.indexesFromSentence(Vocab, sentence, MAX_LEN) for sentence in neg_sentences])"
   ]
  },
  {
   "cell_type": "code",
   "execution_count": 7,
   "metadata": {},
   "outputs": [
    {
     "name": "stdout",
     "output_type": "stream",
     "text": [
      "pos (5331, 20)\n",
      "neg (5331, 20)\n"
     ]
    }
   ],
   "source": [
    "print('pos',pos_seq.shape)\n",
    "print('neg',neg_seq.shape)"
   ]
  },
  {
   "cell_type": "markdown",
   "metadata": {},
   "source": [
    "# b. using glove pre-trained embedding"
   ]
  },
  {
   "cell_type": "code",
   "execution_count": 5,
   "metadata": {},
   "outputs": [],
   "source": [
    "Glove = Pretrained_embedding.pre_embedding('glove')\n",
    "Glove.init()"
   ]
  },
  {
   "cell_type": "code",
   "execution_count": 6,
   "metadata": {},
   "outputs": [
    {
     "name": "stdout",
     "output_type": "stream",
     "text": [
      "pos (5331, 20)\n",
      "neg (5331, 20)\n",
      "num of vocab 400003\n"
     ]
    }
   ],
   "source": [
    "MAX_LEN = 20\n",
    "vocab_size = len(Glove.word2index)\n",
    "\n",
    "pos_seq = np.asarray([Glove.sentence2seq(sentence, MAX_LEN) for sentence in pos_sentences])\n",
    "neg_seq = np.asarray([Glove.sentence2seq(sentence, MAX_LEN) for sentence in neg_sentences])\n",
    "\n",
    "print('pos',pos_seq.shape)\n",
    "print('neg',neg_seq.shape)\n",
    "print('num of vocab', vocab_size)\n",
    "\n",
    "embedding_tensors = torch.FloatTensor(Glove.embedding).to(device)"
   ]
  },
  {
   "cell_type": "markdown",
   "metadata": {},
   "source": [
    "## prepare data for training "
   ]
  },
  {
   "cell_type": "code",
   "execution_count": 7,
   "metadata": {},
   "outputs": [],
   "source": [
    "x_train, x_test, y_train, y_test = train_test_split(np.concatenate([pos_seq, neg_seq]), \n",
    "                                                    np.concatenate([np.ones(len(pos_seq)), np.zeros(len(neg_seq))]), \n",
    "                                                    test_size=0.1, random_state=2)"
   ]
  },
  {
   "cell_type": "code",
   "execution_count": 8,
   "metadata": {},
   "outputs": [
    {
     "name": "stdout",
     "output_type": "stream",
     "text": [
      "x_train (9595, 20)\n",
      "y_train (9595,)\n",
      "x_test (1067, 20)\n",
      "y_test (1067,)\n"
     ]
    }
   ],
   "source": [
    "print('x_train',x_train.shape)\n",
    "print('y_train',y_train.shape)\n",
    "print('x_test',x_test.shape)\n",
    "print('y_test',y_test.shape)"
   ]
  },
  {
   "cell_type": "code",
   "execution_count": 9,
   "metadata": {},
   "outputs": [],
   "source": [
    "x_train_tensors = torch.LongTensor(x_train).to(device)\n",
    "y_train_tensors = torch.LongTensor(y_train).to(device)\n",
    "\n",
    "x_test_tensors = torch.LongTensor(x_test).to(device)\n",
    "y_test_tensors = torch.LongTensor(y_test).to(device)"
   ]
  },
  {
   "cell_type": "markdown",
   "metadata": {},
   "source": [
    "## training"
   ]
  },
  {
   "cell_type": "code",
   "execution_count": 10,
   "metadata": {},
   "outputs": [],
   "source": [
    "model = textCNN(vocab_size=vocab_size, seq_length=MAX_LEN,\n",
    "                embedding_size=300, num_labels=2, embedding=embedding_tensors).to(device)"
   ]
  },
  {
   "cell_type": "code",
   "execution_count": 11,
   "metadata": {},
   "outputs": [
    {
     "name": "stdout",
     "output_type": "stream",
     "text": [
      "iter 1 / 100\n",
      "0m 3s (- 6m 19s) train loss: 0.601.  val loss: 0.521.  train acc: 0.668.  val acc: 0.731\n",
      "val acc increase from 0.000 to 0.731, save models\n",
      "\n",
      "iter 2 / 100\n",
      "0m 13s (- 10m 41s) train loss: 0.493.  val loss: 0.528.  train acc: 0.762.  val acc: 0.727\n",
      "\n",
      "iter 3 / 100\n",
      "0m 16s (- 8m 54s) train loss: 0.432.  val loss: 0.505.  train acc: 0.801.  val acc: 0.749\n",
      "val acc increase from 0.731 to 0.749, save models\n",
      "\n",
      "iter 4 / 100\n",
      "0m 25s (- 10m 13s) train loss: 0.378.  val loss: 0.514.  train acc: 0.834.  val acc: 0.753\n",
      "val acc increase from 0.749 to 0.753, save models\n",
      "\n",
      "iter 5 / 100\n",
      "0m 34s (- 10m 56s) train loss: 0.321.  val loss: 0.535.  train acc: 0.866.  val acc: 0.750\n",
      "\n",
      "iter 6 / 100\n",
      "0m 37s (- 9m 55s) train loss: 0.250.  val loss: 0.547.  train acc: 0.902.  val acc: 0.752\n",
      "\n",
      "iter 7 / 100\n",
      "0m 41s (- 9m 10s) train loss: 0.205.  val loss: 0.577.  train acc: 0.919.  val acc: 0.744\n",
      "\n",
      "iter 8 / 100\n",
      "0m 45s (- 8m 38s) train loss: 0.164.  val loss: 0.641.  train acc: 0.941.  val acc: 0.740\n",
      "learning rate deceases from 0.0005 to 0.00025\n",
      "\n",
      "iter 9 / 100\n",
      "0m 48s (- 8m 10s) train loss: 0.117.  val loss: 0.607.  train acc: 0.964.  val acc: 0.759\n",
      "val acc increase from 0.753 to 0.759, save models\n",
      "\n",
      "iter 10 / 100\n",
      "0m 57s (- 8m 40s) train loss: 0.090.  val loss: 0.621.  train acc: 0.976.  val acc: 0.758\n",
      "\n",
      "iter 11 / 100\n",
      "1m 1s (- 8m 17s) train loss: 0.075.  val loss: 0.666.  train acc: 0.980.  val acc: 0.766\n",
      "val acc increase from 0.759 to 0.766, save models\n",
      "\n",
      "iter 12 / 100\n",
      "1m 10s (- 8m 35s) train loss: 0.065.  val loss: 0.676.  train acc: 0.982.  val acc: 0.753\n",
      "\n",
      "iter 13 / 100\n",
      "1m 14s (- 8m 15s) train loss: 0.061.  val loss: 0.685.  train acc: 0.984.  val acc: 0.763\n",
      "\n",
      "iter 14 / 100\n",
      "1m 17s (- 7m 57s) train loss: 0.055.  val loss: 0.720.  train acc: 0.987.  val acc: 0.764\n",
      "\n",
      "iter 15 / 100\n",
      "1m 21s (- 7m 40s) train loss: 0.049.  val loss: 0.746.  train acc: 0.987.  val acc: 0.760\n",
      "learning rate deceases from 0.00025 to 0.000125\n",
      "\n",
      "iter 16 / 100\n",
      "1m 24s (- 7m 24s) train loss: 0.040.  val loss: 0.758.  train acc: 0.991.  val acc: 0.764\n",
      "\n",
      "iter 17 / 100\n",
      "1m 28s (- 7m 12s) train loss: 0.038.  val loss: 0.760.  train acc: 0.992.  val acc: 0.759\n",
      "\n",
      "iter 18 / 100\n",
      "1m 32s (- 7m 0s) train loss: 0.036.  val loss: 0.761.  train acc: 0.992.  val acc: 0.765\n",
      "\n",
      "iter 19 / 100\n",
      "1m 36s (- 6m 49s) train loss: 0.031.  val loss: 0.789.  train acc: 0.993.  val acc: 0.757\n",
      "\n",
      "iter 20 / 100\n",
      "1m 39s (- 6m 38s) train loss: 0.030.  val loss: 0.794.  train acc: 0.994.  val acc: 0.763\n",
      "learning rate deceases from 0.000125 to 6.25e-05\n",
      "\n",
      "iter 21 / 100\n",
      "1m 43s (- 6m 29s) train loss: 0.026.  val loss: 0.795.  train acc: 0.995.  val acc: 0.758\n",
      "\n",
      "iter 22 / 100\n",
      "1m 47s (- 6m 19s) train loss: 0.024.  val loss: 0.803.  train acc: 0.996.  val acc: 0.760\n",
      "\n",
      "iter 23 / 100\n",
      "1m 50s (- 6m 10s) train loss: 0.026.  val loss: 0.806.  train acc: 0.995.  val acc: 0.757\n",
      "\n",
      "iter 24 / 100\n",
      "1m 54s (- 6m 2s) train loss: 0.024.  val loss: 0.806.  train acc: 0.995.  val acc: 0.760\n",
      "\n",
      "iter 25 / 100\n",
      "1m 58s (- 5m 54s) train loss: 0.022.  val loss: 0.814.  train acc: 0.996.  val acc: 0.765\n",
      "learning rate deceases from 6.25e-05 to 3.125e-05\n",
      "\n",
      "Early Etop\n"
     ]
    },
    {
     "data": {
      "text/plain": [
       "<Figure size 432x288 with 0 Axes>"
      ]
     },
     "metadata": {},
     "output_type": "display_data"
    },
    {
     "data": {
      "image/png": "[encoded data removed]",
      "text/plain": [
       "<Figure size 432x288 with 1 Axes>"
      ]
     },
     "metadata": {
      "needs_background": "light"
     },
     "output_type": "display_data"
    },
    {
     "data": {
      "text/plain": [
       "<Figure size 432x288 with 0 Axes>"
      ]
     },
     "metadata": {},
     "output_type": "display_data"
    },
    {
     "data": {
      "image/png": "[encoded data removed]",
      "text/plain": [
       "<Figure size 432x288 with 1 Axes>"
      ]
     },
     "metadata": {
      "needs_background": "light"
     },
     "output_type": "display_data"
    }
   ],
   "source": [
    "Train.train(input_train_tensors=x_train_tensors, output_train_tensors=y_train_tensors, \n",
    "            input_val_tensors=x_test_tensors, output_val_tensors=y_test_tensors,\n",
    "            model=model, epoches=100, batch_size=50, print_every=1, plot_every=1, learning_rate=0.001,\n",
    "           patience = 5, early_stop=20)"
   ]
  },
  {
   "cell_type": "code",
   "execution_count": null,
   "metadata": {},
   "outputs": [],
   "source": []
  }
 ],
 "metadata": {
  "kernelspec": {
   "display_name": "Python 3",
   "language": "python",
   "name": "python3"
  },
  "language_info": {
   "codemirror_mode": {
    "name": "ipython",
    "version": 3
   },
   "file_extension": ".py",
   "mimetype": "text/x-python",
   "name": "python",
   "nbconvert_exporter": "python",
   "pygments_lexer": "ipython3",
   "version": "3.7.3"
  }
 },
 "nbformat": 4,
 "nbformat_minor": 2
}
