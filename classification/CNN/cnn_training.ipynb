{
 "cells": [
  {
   "cell_type": "code",
   "execution_count": 1,
   "metadata": {},
   "outputs": [
    {
     "name": "stdout",
     "output_type": "stream",
     "text": [
      "cuda:3\n"
     ]
    }
   ],
   "source": [
    "import torch\n",
    "import torch.nn as nn\n",
    "import torch.nn.functional as F\n",
    "import numpy as np\n",
    "\n",
    "from textCNN import textCNN\n",
    "import word2vector\n",
    "import Pretrained_embedding\n",
    "from sklearn.model_selection import train_test_split\n",
    "import Train\n",
    "\n",
    "device = torch.device(\"cuda:3\" if torch.cuda.is_available() else \"cpu\")\n",
    "print(device)"
   ]
  },
  {
   "cell_type": "code",
   "execution_count": 2,
   "metadata": {},
   "outputs": [],
   "source": [
    "with open('../../dataset/MovieReview/rt-polaritydata/rt-polarity.pos', 'r', encoding='latin-1') as f:\n",
    "    pos_sentences = f.readlines()"
   ]
  },
  {
   "cell_type": "code",
   "execution_count": 3,
   "metadata": {},
   "outputs": [],
   "source": [
    "with open('../../dataset/MovieReview/rt-polaritydata/rt-polarity.neg', 'r', encoding='latin-1') as f:\n",
    "    neg_sentences = f.readlines()"
   ]
  },
  {
   "cell_type": "markdown",
   "metadata": {},
   "source": [
    "## normalized sentences"
   ]
  },
  {
   "cell_type": "code",
   "execution_count": 4,
   "metadata": {},
   "outputs": [],
   "source": [
    "pos_sentences = [word2vector.normalizeString(sentence) for sentence in pos_sentences]\n",
    "neg_sentences = [word2vector.normalizeString(sentence) for sentence in neg_sentences]"
   ]
  },
  {
   "cell_type": "markdown",
   "metadata": {},
   "source": [
    "# a. using word2vector"
   ]
  },
  {
   "cell_type": "markdown",
   "metadata": {},
   "source": [
    "## 1.build vocab"
   ]
  },
  {
   "cell_type": "code",
   "execution_count": 5,
   "metadata": {},
   "outputs": [],
   "source": [
    "Vocab = word2vector.Vocab('vocab')\n",
    "\n",
    "for i in pos_sentences:\n",
    "    Vocab.addSentence(i)\n",
    "    \n",
    "for i in neg_sentences:\n",
    "    Vocab.addSentence(i)"
   ]
  },
  {
   "cell_type": "markdown",
   "metadata": {},
   "source": [
    "## 2.transform sentences to index sequence"
   ]
  },
  {
   "cell_type": "code",
   "execution_count": 6,
   "metadata": {},
   "outputs": [
    {
     "name": "stdout",
     "output_type": "stream",
     "text": [
      "num of vocab 18161\n"
     ]
    }
   ],
   "source": [
    "MAX_LEN = 20\n",
    "embedding_tensors = None\n",
    "vocab_size = Vocab.num_vocab\n",
    "print('num of vocab', vocab_size)\n",
    "\n",
    "pos_seq = np.asarray([word2vector.indexesFromSentence(Vocab, sentence, MAX_LEN) for sentence in pos_sentences])\n",
    "neg_seq = np.asarray([word2vector.indexesFromSentence(Vocab, sentence, MAX_LEN) for sentence in neg_sentences])"
   ]
  },
  {
   "cell_type": "code",
   "execution_count": 7,
   "metadata": {},
   "outputs": [
    {
     "name": "stdout",
     "output_type": "stream",
     "text": [
      "pos (5331, 20)\n",
      "neg (5331, 20)\n"
     ]
    }
   ],
   "source": [
    "print('pos',pos_seq.shape)\n",
    "print('neg',neg_seq.shape)"
   ]
  },
  {
   "cell_type": "markdown",
   "metadata": {},
   "source": [
    "# b. using glove pre-trained embedding"
   ]
  },
  {
   "cell_type": "code",
   "execution_count": 5,
   "metadata": {},
   "outputs": [],
   "source": [
    "Glove = Pretrained_embedding.pre_embedding('glove')\n",
    "Glove.init()"
   ]
  },
  {
   "cell_type": "code",
   "execution_count": 6,
   "metadata": {},
   "outputs": [
    {
     "name": "stdout",
     "output_type": "stream",
     "text": [
      "pos (5331, 20)\n",
      "neg (5331, 20)\n",
      "num of vocab 400003\n"
     ]
    }
   ],
   "source": [
    "MAX_LEN = 20\n",
    "vocab_size = len(Glove.word2index)\n",
    "\n",
    "pos_seq = np.asarray([Glove.sentence2seq(sentence, MAX_LEN) for sentence in pos_sentences])\n",
    "neg_seq = np.asarray([Glove.sentence2seq(sentence, MAX_LEN) for sentence in neg_sentences])\n",
    "\n",
    "print('pos',pos_seq.shape)\n",
    "print('neg',neg_seq.shape)\n",
    "print('num of vocab', vocab_size)\n",
    "\n",
    "embedding_tensors = torch.FloatTensor(Glove.embedding).to(device)"
   ]
  },
  {
   "cell_type": "markdown",
   "metadata": {},
   "source": [
    "## prepare data for training "
   ]
  },
  {
   "cell_type": "code",
   "execution_count": 7,
   "metadata": {},
   "outputs": [],
   "source": [
    "x_train, x_test, y_train, y_test = train_test_split(np.concatenate([pos_seq, neg_seq]), \n",
    "                                                    np.concatenate([np.ones(len(pos_seq)), np.zeros(len(neg_seq))]), \n",
    "                                                    test_size=0.1, random_state=2)"
   ]
  },
  {
   "cell_type": "code",
   "execution_count": 8,
   "metadata": {},
   "outputs": [
    {
     "name": "stdout",
     "output_type": "stream",
     "text": [
      "x_train (9595, 20)\n",
      "y_train (9595,)\n",
      "x_test (1067, 20)\n",
      "y_test (1067,)\n"
     ]
    }
   ],
   "source": [
    "print('x_train',x_train.shape)\n",
    "print('y_train',y_train.shape)\n",
    "print('x_test',x_test.shape)\n",
    "print('y_test',y_test.shape)"
   ]
  },
  {
   "cell_type": "code",
   "execution_count": 9,
   "metadata": {},
   "outputs": [],
   "source": [
    "x_train_tensors = torch.LongTensor(x_train).to(device)\n",
    "y_train_tensors = torch.LongTensor(y_train).to(device)\n",
    "\n",
    "x_test_tensors = torch.LongTensor(x_test).to(device)\n",
    "y_test_tensors = torch.LongTensor(y_test).to(device)"
   ]
  },
  {
   "cell_type": "markdown",
   "metadata": {},
   "source": [
    "## training"
   ]
  },
  {
   "cell_type": "code",
   "execution_count": 15,
   "metadata": {},
   "outputs": [],
   "source": [
    "model = textCNN(vocab_size=vocab_size, seq_length=MAX_LEN,filter_sizes=[2, 3, 4, 5],drop_out_rate=0.5,\n",
    "                embedding_size=300, num_labels=2, embedding=embedding_tensors).to(device)"
   ]
  },
  {
   "cell_type": "code",
   "execution_count": 17,
   "metadata": {},
   "outputs": [
    {
     "name": "stdout",
     "output_type": "stream",
     "text": [
      "iter 1 / 100\n",
      "0m 4s (- 6m 58s) train loss: 0.282.  val loss: 0.559.  train acc: 0.885.  val acc: 0.756\n",
      "val acc increase from 0.000 to 0.756, save models\n",
      "\n",
      "iter 2 / 100\n",
      "0m 13s (- 10m 39s) train loss: 0.253.  val loss: 0.568.  train acc: 0.895.  val acc: 0.757\n",
      "val acc increase from 0.756 to 0.757, save models\n",
      "\n",
      "iter 3 / 100\n",
      "0m 22s (- 11m 58s) train loss: 0.220.  val loss: 0.596.  train acc: 0.911.  val acc: 0.750\n",
      "\n",
      "iter 4 / 100\n",
      "0m 25s (- 10m 20s) train loss: 0.212.  val loss: 0.617.  train acc: 0.916.  val acc: 0.750\n",
      "\n",
      "iter 5 / 100\n",
      "0m 29s (- 9m 18s) train loss: 0.198.  val loss: 0.651.  train acc: 0.922.  val acc: 0.741\n",
      "\n",
      "iter 6 / 100\n",
      "0m 33s (- 8m 37s) train loss: 0.193.  val loss: 0.635.  train acc: 0.925.  val acc: 0.759\n",
      "val acc increase from 0.757 to 0.759, save models\n",
      "\n",
      "iter 7 / 100\n",
      "0m 42s (- 9m 23s) train loss: 0.179.  val loss: 0.747.  train acc: 0.932.  val acc: 0.741\n",
      "\n",
      "iter 8 / 100\n",
      "0m 46s (- 8m 50s) train loss: 0.168.  val loss: 0.683.  train acc: 0.937.  val acc: 0.760\n",
      "val acc increase from 0.759 to 0.760, save models\n",
      "\n",
      "iter 9 / 100\n",
      "0m 55s (- 9m 18s) train loss: 0.147.  val loss: 0.753.  train acc: 0.942.  val acc: 0.747\n",
      "learning rate deceases from 0.0005 to 0.00025\n",
      "\n",
      "iter 10 / 100\n",
      "0m 58s (- 8m 49s) train loss: 0.135.  val loss: 0.717.  train acc: 0.951.  val acc: 0.759\n",
      "\n",
      "iter 11 / 100\n",
      "1m 2s (- 8m 25s) train loss: 0.110.  val loss: 0.722.  train acc: 0.964.  val acc: 0.756\n",
      "\n",
      "iter 12 / 100\n",
      "1m 6s (- 8m 5s) train loss: 0.102.  val loss: 0.743.  train acc: 0.966.  val acc: 0.764\n",
      "val acc increase from 0.760 to 0.764, save models\n",
      "\n",
      "iter 13 / 100\n",
      "1m 15s (- 8m 23s) train loss: 0.101.  val loss: 0.756.  train acc: 0.966.  val acc: 0.767\n",
      "val acc increase from 0.764 to 0.767, save models\n",
      "\n",
      "iter 14 / 100\n",
      "1m 24s (- 8m 37s) train loss: 0.091.  val loss: 0.760.  train acc: 0.969.  val acc: 0.762\n",
      "\n",
      "iter 15 / 100\n",
      "1m 27s (- 8m 17s) train loss: 0.087.  val loss: 0.777.  train acc: 0.972.  val acc: 0.765\n",
      "\n",
      "iter 16 / 100\n",
      "1m 31s (- 8m 0s) train loss: 0.070.  val loss: 0.788.  train acc: 0.978.  val acc: 0.756\n",
      "learning rate deceases from 0.00025 to 0.000125\n",
      "\n",
      "iter 17 / 100\n",
      "1m 35s (- 7m 44s) train loss: 0.072.  val loss: 0.804.  train acc: 0.976.  val acc: 0.762\n",
      "\n",
      "iter 18 / 100\n",
      "1m 38s (- 7m 30s) train loss: 0.070.  val loss: 0.809.  train acc: 0.979.  val acc: 0.765\n",
      "\n",
      "iter 19 / 100\n",
      "1m 42s (- 7m 17s) train loss: 0.064.  val loss: 0.809.  train acc: 0.980.  val acc: 0.760\n",
      "\n",
      "iter 20 / 100\n",
      "1m 46s (- 7m 4s) train loss: 0.056.  val loss: 0.818.  train acc: 0.984.  val acc: 0.761\n",
      "\n",
      "iter 21 / 100\n",
      "1m 49s (- 6m 53s) train loss: 0.058.  val loss: 0.816.  train acc: 0.982.  val acc: 0.763\n",
      "learning rate deceases from 0.000125 to 6.25e-05\n",
      "\n",
      "iter 22 / 100\n",
      "1m 53s (- 6m 42s) train loss: 0.054.  val loss: 0.834.  train acc: 0.984.  val acc: 0.761\n",
      "\n",
      "iter 23 / 100\n",
      "1m 57s (- 6m 32s) train loss: 0.049.  val loss: 0.838.  train acc: 0.987.  val acc: 0.756\n",
      "\n",
      "iter 24 / 100\n",
      "2m 0s (- 6m 22s) train loss: 0.052.  val loss: 0.847.  train acc: 0.985.  val acc: 0.763\n",
      "\n",
      "iter 25 / 100\n",
      "2m 4s (- 6m 13s) train loss: 0.048.  val loss: 0.848.  train acc: 0.987.  val acc: 0.764\n",
      "\n",
      "iter 26 / 100\n",
      "2m 8s (- 6m 4s) train loss: 0.044.  val loss: 0.851.  train acc: 0.988.  val acc: 0.763\n",
      "learning rate deceases from 6.25e-05 to 3.125e-05\n",
      "\n",
      "Early Etop\n"
     ]
    },
    {
     "data": {
      "text/plain": [
       "<Figure size 432x288 with 0 Axes>"
      ]
     },
     "metadata": {},
     "output_type": "display_data"
    },
    {
     "data": {
      "image/png": "[encoded data removed]",
      "text/plain": [
       "<Figure size 432x288 with 1 Axes>"
      ]
     },
     "metadata": {
      "needs_background": "light"
     },
     "output_type": "display_data"
    },
    {
     "data": {
      "text/plain": [
       "<Figure size 432x288 with 0 Axes>"
      ]
     },
     "metadata": {},
     "output_type": "display_data"
    },
    {
     "data": {
      "image/png": "[encoded data removed]",
      "text/plain": [
       "<Figure size 432x288 with 1 Axes>"
      ]
     },
     "metadata": {
      "needs_background": "light"
     },
     "output_type": "display_data"
    }
   ],
   "source": [
    "Train.train(input_train_tensors=x_train_tensors, output_train_tensors=y_train_tensors, \n",
    "            input_val_tensors=x_test_tensors, output_val_tensors=y_test_tensors,\n",
    "            model=model, epoches=100, batch_size=50, print_every=1, plot_every=1, learning_rate=0.001,\n",
    "           patience = 5, early_stop=20)"
   ]
  },
  {
   "cell_type": "code",
   "execution_count": null,
   "metadata": {},
   "outputs": [],
   "source": []
  }
 ],
 "metadata": {
  "kernelspec": {
   "display_name": "Python 3",
   "language": "python",
   "name": "python3"
  },
  "language_info": {
   "codemirror_mode": {
    "name": "ipython",
    "version": 3
   },
   "file_extension": ".py",
   "mimetype": "text/x-python",
   "name": "python",
   "nbconvert_exporter": "python",
   "pygments_lexer": "ipython3",
   "version": "3.7.3"
  }
 },
 "nbformat": 4,
 "nbformat_minor": 2
}
