{
 "cells": [
  {
   "cell_type": "code",
   "execution_count": 1,
   "metadata": {},
   "outputs": [
    {
     "name": "stdout",
     "output_type": "stream",
     "text": [
      "cuda:3\n"
     ]
    }
   ],
   "source": [
    "import torch\n",
    "import torch.nn as nn\n",
    "import torch.nn.functional as F\n",
    "import numpy as np\n",
    "\n",
    "from textCNN import textCNN\n",
    "import word_processing\n",
    "from sklearn.model_selection import train_test_split\n",
    "import Train\n",
    "\n",
    "device = torch.device(\"cuda:3\" if torch.cuda.is_available() else \"cpu\")\n",
    "print(device)"
   ]
  },
  {
   "cell_type": "code",
   "execution_count": 2,
   "metadata": {},
   "outputs": [],
   "source": [
    "with open('./dataset/MovieReview/rt-polaritydata/rt-polarity.pos', 'r', encoding='latin-1') as f:\n",
    "    pos_sentences = f.readlines()"
   ]
  },
  {
   "cell_type": "code",
   "execution_count": 3,
   "metadata": {},
   "outputs": [],
   "source": [
    "with open('./dataset/MovieReview/rt-polaritydata/rt-polarity.neg', 'r', encoding='latin-1') as f:\n",
    "    neg_sentences = f.readlines()"
   ]
  },
  {
   "cell_type": "markdown",
   "metadata": {},
   "source": [
    "## normalized sentences"
   ]
  },
  {
   "cell_type": "code",
   "execution_count": 4,
   "metadata": {},
   "outputs": [],
   "source": [
    "pos_sentences = [word_processing.normalizeString(sentence) for sentence in pos_sentences]\n",
    "neg_sentences = [word_processing.normalizeString(sentence) for sentence in neg_sentences]"
   ]
  },
  {
   "cell_type": "markdown",
   "metadata": {},
   "source": [
    "## build vocab"
   ]
  },
  {
   "cell_type": "code",
   "execution_count": 5,
   "metadata": {},
   "outputs": [],
   "source": [
    "Vocab = word_processing.Vocab('vocab')\n",
    "\n",
    "for i in pos_sentences:\n",
    "    Vocab.addSentence(i)\n",
    "    \n",
    "for i in neg_sentences:\n",
    "    Vocab.addSentence(i)"
   ]
  },
  {
   "cell_type": "markdown",
   "metadata": {},
   "source": [
    "## transform sentences to index sequence"
   ]
  },
  {
   "cell_type": "code",
   "execution_count": 6,
   "metadata": {},
   "outputs": [],
   "source": [
    "MAX_LEN = 20\n",
    "\n",
    "pos_seq = np.asarray([word_processing.indexesFromSentence(Vocab, sentence, MAX_LEN) for sentence in pos_sentences])\n",
    "neg_seq = np.asarray([word_processing.indexesFromSentence(Vocab, sentence, MAX_LEN) for sentence in neg_sentences])"
   ]
  },
  {
   "cell_type": "code",
   "execution_count": 7,
   "metadata": {},
   "outputs": [
    {
     "name": "stdout",
     "output_type": "stream",
     "text": [
      "pos (5331, 20)\n",
      "neg (5331, 20)\n"
     ]
    }
   ],
   "source": [
    "print('pos',pos_seq.shape)\n",
    "print('neg',neg_seq.shape)"
   ]
  },
  {
   "cell_type": "markdown",
   "metadata": {},
   "source": [
    "## prepare data for training "
   ]
  },
  {
   "cell_type": "code",
   "execution_count": 8,
   "metadata": {},
   "outputs": [],
   "source": [
    "x_train, x_test, y_train, y_test = train_test_split(np.concatenate([pos_seq, neg_seq]), \n",
    "                                                    np.concatenate([np.ones(len(pos_seq)), np.zeros(len(neg_seq))]), \n",
    "                                                    test_size=0.1, random_state=2)"
   ]
  },
  {
   "cell_type": "code",
   "execution_count": 9,
   "metadata": {},
   "outputs": [
    {
     "name": "stdout",
     "output_type": "stream",
     "text": [
      "x_train (9595, 20)\n",
      "y_train (9595,)\n",
      "x_test (1067, 20)\n",
      "y_test (1067,)\n"
     ]
    }
   ],
   "source": [
    "print('x_train',x_train.shape)\n",
    "print('y_train',y_train.shape)\n",
    "print('x_test',x_test.shape)\n",
    "print('y_test',y_test.shape)"
   ]
  },
  {
   "cell_type": "code",
   "execution_count": 10,
   "metadata": {},
   "outputs": [],
   "source": [
    "x_train_tensors = torch.LongTensor(x_train).to(device)\n",
    "y_train_tensors = torch.LongTensor(y_train).to(device)\n",
    "\n",
    "x_test_tensors = torch.LongTensor(x_test).to(device)\n",
    "y_test_tensors = torch.LongTensor(y_test).to(device)"
   ]
  },
  {
   "cell_type": "markdown",
   "metadata": {},
   "source": [
    "## training"
   ]
  },
  {
   "cell_type": "code",
   "execution_count": 11,
   "metadata": {},
   "outputs": [],
   "source": [
    "model = textCNN(vocab_size=Vocab.num_vocab, seq_length=MAX_LEN, embedding_size=300, num_labels=2).to(device)"
   ]
  },
  {
   "cell_type": "code",
   "execution_count": 12,
   "metadata": {},
   "outputs": [
    {
     "name": "stdout",
     "output_type": "stream",
     "text": [
      "iter 1 / 20\n",
      "0m 3s (- 1m 1s) train loss: 0.722.  val loss: 0.659.  train acc: 0.538.  val acc: 0.613\n",
      "val acc increase from 0 to 0.612933458294283\n",
      "save models\n",
      "iter 2 / 20\n",
      "0m 7s (- 1m 4s) train loss: 0.639.  val loss: 0.652.  train acc: 0.638.  val acc: 0.635\n",
      "val acc increase from 0.612933458294283 to 0.6354264292408622\n",
      "save models\n",
      "iter 3 / 20\n",
      "0m 10s (- 1m 2s) train loss: 0.625.  val loss: 0.648.  train acc: 0.661.  val acc: 0.644\n",
      "val acc increase from 0.6354264292408622 to 0.6438612933458294\n",
      "save models\n",
      "iter 4 / 20\n",
      "0m 14s (- 0m 59s) train loss: 0.622.  val loss: 0.650.  train acc: 0.667.  val acc: 0.615\n",
      "iter 5 / 20\n",
      "0m 18s (- 0m 54s) train loss: 0.618.  val loss: 0.647.  train acc: 0.671.  val acc: 0.634\n",
      "iter 6 / 20\n",
      "0m 20s (- 0m 48s) train loss: 0.620.  val loss: 0.648.  train acc: 0.676.  val acc: 0.631\n",
      "iter 7 / 20\n",
      "0m 23s (- 0m 44s) train loss: 0.623.  val loss: 0.650.  train acc: 0.674.  val acc: 0.634\n",
      "iter 8 / 20\n",
      "0m 26s (- 0m 40s) train loss: 0.631.  val loss: 0.657.  train acc: 0.666.  val acc: 0.615\n",
      "iter 9 / 20\n",
      "0m 29s (- 0m 36s) train loss: 0.641.  val loss: 0.662.  train acc: 0.661.  val acc: 0.618\n",
      "iter 10 / 20\n",
      "0m 32s (- 0m 32s) train loss: 0.653.  val loss: 0.671.  train acc: 0.648.  val acc: 0.605\n",
      "iter 11 / 20\n",
      "0m 35s (- 0m 29s) train loss: 0.665.  val loss: 0.678.  train acc: 0.633.  val acc: 0.613\n",
      "iter 12 / 20\n",
      "0m 38s (- 0m 25s) train loss: 0.677.  val loss: 0.684.  train acc: 0.625.  val acc: 0.604\n",
      "iter 13 / 20\n",
      "0m 41s (- 0m 22s) train loss: 0.686.  val loss: 0.690.  train acc: 0.595.  val acc: 0.581\n",
      "iter 14 / 20\n",
      "0m 44s (- 0m 18s) train loss: 0.692.  val loss: 0.693.  train acc: 0.564.  val acc: 0.549\n",
      "iter 15 / 20\n",
      "0m 47s (- 0m 15s) train loss: 0.693.  val loss: 0.693.  train acc: 0.511.  val acc: 0.507\n",
      "iter 16 / 20\n",
      "0m 50s (- 0m 12s) train loss: 0.693.  val loss: 0.693.  train acc: 0.499.  val acc: 0.507\n",
      "iter 17 / 20\n",
      "0m 52s (- 0m 9s) train loss: 0.693.  val loss: 0.693.  train acc: 0.499.  val acc: 0.507\n",
      "iter 18 / 20\n",
      "0m 55s (- 0m 6s) train loss: 0.693.  val loss: 0.693.  train acc: 0.497.  val acc: 0.493\n",
      "iter 19 / 20\n",
      "0m 58s (- 0m 3s) train loss: 0.693.  val loss: 0.693.  train acc: 0.498.  val acc: 0.493\n",
      "iter 20 / 20\n",
      "1m 1s (- 0m 0s) train loss: 0.693.  val loss: 0.693.  train acc: 0.499.  val acc: 0.493\n"
     ]
    },
    {
     "data": {
      "text/plain": [
       "<Figure size 432x288 with 0 Axes>"
      ]
     },
     "metadata": {},
     "output_type": "display_data"
    },
    {
     "data": {
      "image/png": "[encoded data removed]",
      "text/plain": [
       "<Figure size 432x288 with 1 Axes>"
      ]
     },
     "metadata": {
      "needs_background": "light"
     },
     "output_type": "display_data"
    },
    {
     "data": {
      "text/plain": [
       "<Figure size 432x288 with 0 Axes>"
      ]
     },
     "metadata": {},
     "output_type": "display_data"
    },
    {
     "data": {
      "image/png": "[encoded data removed]",
      "text/plain": [
       "<Figure size 432x288 with 1 Axes>"
      ]
     },
     "metadata": {
      "needs_background": "light"
     },
     "output_type": "display_data"
    }
   ],
   "source": [
    "Train.train(input_train_tensors=x_train_tensors, output_train_tensors=y_train_tensors, \n",
    "            input_val_tensors=x_test_tensors, output_val_tensors=y_test_tensors,\n",
    "            model=model, epoches=20, batch_size=50, print_every=1, plot_every=1, learning_rate=1.0)"
   ]
  },
  {
   "cell_type": "code",
   "execution_count": null,
   "metadata": {},
   "outputs": [],
   "source": []
  },
  {
   "cell_type": "code",
   "execution_count": null,
   "metadata": {},
   "outputs": [],
   "source": []
  }
 ],
 "metadata": {
  "kernelspec": {
   "display_name": "Python 3",
   "language": "python",
   "name": "python3"
  },
  "language_info": {
   "codemirror_mode": {
    "name": "ipython",
    "version": 3
   },
   "file_extension": ".py",
   "mimetype": "text/x-python",
   "name": "python",
   "nbconvert_exporter": "python",
   "pygments_lexer": "ipython3",
   "version": "3.6.8"
  }
 },
 "nbformat": 4,
 "nbformat_minor": 2
}
