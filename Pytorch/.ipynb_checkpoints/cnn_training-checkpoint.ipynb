{
 "cells": [
  {
   "cell_type": "code",
   "execution_count": 1,
   "metadata": {},
   "outputs": [
    {
     "name": "stdout",
     "output_type": "stream",
     "text": [
      "cuda:3\n"
     ]
    }
   ],
   "source": [
    "import torch\n",
    "import torch.nn as nn\n",
    "import torch.nn.functional as F\n",
    "import numpy as np\n",
    "\n",
    "from textCNN import textCNN\n",
    "import word_processing\n",
    "from sklearn.model_selection import train_test_split\n",
    "import Train\n",
    "\n",
    "device = torch.device(\"cuda:3\" if torch.cuda.is_available() else \"cpu\")\n",
    "print(device)"
   ]
  },
  {
   "cell_type": "code",
   "execution_count": 2,
   "metadata": {},
   "outputs": [],
   "source": [
    "with open('./dataset/MovieReview/rt-polaritydata/rt-polarity.pos', 'r', encoding='latin-1') as f:\n",
    "    pos_sentences = f.readlines()"
   ]
  },
  {
   "cell_type": "code",
   "execution_count": 3,
   "metadata": {},
   "outputs": [],
   "source": [
    "with open('./dataset/MovieReview/rt-polaritydata/rt-polarity.neg', 'r', encoding='latin-1') as f:\n",
    "    neg_sentences = f.readlines()"
   ]
  },
  {
   "cell_type": "markdown",
   "metadata": {},
   "source": [
    "## normalized sentences"
   ]
  },
  {
   "cell_type": "code",
   "execution_count": 4,
   "metadata": {},
   "outputs": [],
   "source": [
    "pos_sentences = [word_processing.normalizeString(sentence) for sentence in pos_sentences]\n",
    "neg_sentences = [word_processing.normalizeString(sentence) for sentence in neg_sentences]"
   ]
  },
  {
   "cell_type": "markdown",
   "metadata": {},
   "source": [
    "## build vocab"
   ]
  },
  {
   "cell_type": "code",
   "execution_count": 5,
   "metadata": {},
   "outputs": [],
   "source": [
    "Vocab = word_processing.Vocab('vocab')\n",
    "\n",
    "for i in pos_sentences:\n",
    "    Vocab.addSentence(i)\n",
    "    \n",
    "for i in neg_sentences:\n",
    "    Vocab.addSentence(i)"
   ]
  },
  {
   "cell_type": "markdown",
   "metadata": {},
   "source": [
    "## transform sentences to index sequence"
   ]
  },
  {
   "cell_type": "code",
   "execution_count": 6,
   "metadata": {},
   "outputs": [],
   "source": [
    "MAX_LEN = 20\n",
    "\n",
    "pos_seq = np.asarray([word_processing.indexesFromSentence(Vocab, sentence, MAX_LEN) for sentence in pos_sentences])\n",
    "neg_seq = np.asarray([word_processing.indexesFromSentence(Vocab, sentence, MAX_LEN) for sentence in neg_sentences])"
   ]
  },
  {
   "cell_type": "code",
   "execution_count": 7,
   "metadata": {},
   "outputs": [
    {
     "name": "stdout",
     "output_type": "stream",
     "text": [
      "pos (5331, 20)\n",
      "neg (5331, 20)\n"
     ]
    }
   ],
   "source": [
    "print('pos',pos_seq.shape)\n",
    "print('neg',neg_seq.shape)"
   ]
  },
  {
   "cell_type": "markdown",
   "metadata": {},
   "source": [
    "## prepare data for training "
   ]
  },
  {
   "cell_type": "code",
   "execution_count": 8,
   "metadata": {},
   "outputs": [],
   "source": [
    "x_train, x_test, y_train, y_test = train_test_split(np.concatenate([pos_seq, neg_seq]), \n",
    "                                                    np.concatenate([np.ones(len(pos_seq)), np.zeros(len(neg_seq))]), \n",
    "                                                    test_size=0.1, random_state=2)"
   ]
  },
  {
   "cell_type": "code",
   "execution_count": 9,
   "metadata": {},
   "outputs": [
    {
     "name": "stdout",
     "output_type": "stream",
     "text": [
      "x_train (9595, 20)\n",
      "y_train (9595,)\n",
      "x_test (1067, 20)\n",
      "y_test (1067,)\n"
     ]
    }
   ],
   "source": [
    "print('x_train',x_train.shape)\n",
    "print('y_train',y_train.shape)\n",
    "print('x_test',x_test.shape)\n",
    "print('y_test',y_test.shape)"
   ]
  },
  {
   "cell_type": "code",
   "execution_count": 10,
   "metadata": {},
   "outputs": [],
   "source": [
    "x_train_tensors = torch.LongTensor(x_train).to(device)\n",
    "y_train_tensors = torch.LongTensor(y_train).to(device)\n",
    "\n",
    "x_test_tensors = torch.LongTensor(x_test).to(device)\n",
    "y_test_tensors = torch.LongTensor(y_test).to(device)"
   ]
  },
  {
   "cell_type": "markdown",
   "metadata": {},
   "source": [
    "## training"
   ]
  },
  {
   "cell_type": "code",
   "execution_count": 11,
   "metadata": {},
   "outputs": [],
   "source": [
    "model = textCNN(vocab_size=Vocab.num_vocab, seq_length=MAX_LEN, embedding_size=300, num_labels=2).to(device)"
   ]
  },
  {
   "cell_type": "code",
   "execution_count": 12,
   "metadata": {},
   "outputs": [
    {
     "name": "stdout",
     "output_type": "stream",
     "text": [
      "iter 1 / 50\n",
      "0m 3s (- 2m 28s) train loss: 0.725.  val loss: 0.627.  train acc: 0.571.  val acc: 0.641\n",
      "val acc increase from 0.000 to 0.641, save models\n",
      "\n",
      "iter 2 / 50\n",
      "0m 6s (- 2m 41s) train loss: 0.575.  val loss: 0.596.  train acc: 0.700.  val acc: 0.678\n",
      "val acc increase from 0.641 to 0.678, save models\n",
      "\n",
      "iter 3 / 50\n",
      "0m 10s (- 2m 43s) train loss: 0.476.  val loss: 0.582.  train acc: 0.772.  val acc: 0.700\n",
      "val acc increase from 0.678 to 0.700, save models\n",
      "\n",
      "iter 4 / 50\n",
      "0m 14s (- 2m 42s) train loss: 0.372.  val loss: 0.601.  train acc: 0.837.  val acc: 0.703\n",
      "val acc increase from 0.700 to 0.703, save models\n",
      "\n",
      "iter 5 / 50\n",
      "0m 17s (- 2m 40s) train loss: 0.284.  val loss: 0.635.  train acc: 0.882.  val acc: 0.730\n",
      "val acc increase from 0.703 to 0.730, save models\n",
      "\n",
      "iter 6 / 50\n",
      "0m 21s (- 2m 37s) train loss: 0.212.  val loss: 0.660.  train acc: 0.916.  val acc: 0.744\n",
      "val acc increase from 0.730 to 0.744, save models\n",
      "\n",
      "iter 7 / 50\n",
      "0m 25s (- 2m 35s) train loss: 0.146.  val loss: 0.741.  train acc: 0.946.  val acc: 0.722\n",
      "\n",
      "iter 8 / 50\n",
      "0m 27s (- 2m 26s) train loss: 0.118.  val loss: 0.772.  train acc: 0.957.  val acc: 0.733\n",
      "\n",
      "iter 9 / 50\n",
      "0m 30s (- 2m 19s) train loss: 0.090.  val loss: 0.852.  train acc: 0.969.  val acc: 0.748\n",
      "val acc increase from 0.744 to 0.748, save models\n",
      "\n",
      "iter 10 / 50\n",
      "0m 34s (- 2m 17s) train loss: 0.081.  val loss: 0.911.  train acc: 0.973.  val acc: 0.733\n",
      "learning rate deceases from 0.0005 to 0.00025\n",
      "\n",
      "iter 11 / 50\n",
      "0m 37s (- 2m 11s) train loss: 0.050.  val loss: 0.926.  train acc: 0.985.  val acc: 0.738\n",
      "\n",
      "iter 12 / 50\n",
      "0m 39s (- 2m 6s) train loss: 0.037.  val loss: 0.932.  train acc: 0.990.  val acc: 0.747\n",
      "\n",
      "iter 13 / 50\n",
      "0m 42s (- 2m 1s) train loss: 0.031.  val loss: 0.937.  train acc: 0.993.  val acc: 0.743\n",
      "learning rate deceases from 0.00025 to 0.000125\n",
      "\n",
      "iter 14 / 50\n",
      "0m 45s (- 1m 56s) train loss: 0.022.  val loss: 0.962.  train acc: 0.996.  val acc: 0.750\n",
      "val acc increase from 0.748 to 0.750, save models\n",
      "\n",
      "iter 15 / 50\n",
      "0m 49s (- 1m 54s) train loss: 0.021.  val loss: 0.965.  train acc: 0.995.  val acc: 0.753\n",
      "val acc increase from 0.750 to 0.753, save models\n",
      "\n",
      "iter 16 / 50\n",
      "0m 52s (- 1m 52s) train loss: 0.018.  val loss: 0.986.  train acc: 0.996.  val acc: 0.749\n",
      "\n",
      "iter 17 / 50\n",
      "0m 55s (- 1m 47s) train loss: 0.017.  val loss: 1.007.  train acc: 0.997.  val acc: 0.744\n",
      "\n",
      "iter 18 / 50\n",
      "0m 58s (- 1m 43s) train loss: 0.017.  val loss: 1.022.  train acc: 0.997.  val acc: 0.743\n",
      "learning rate deceases from 0.000125 to 6.25e-05\n",
      "\n",
      "iter 19 / 50\n",
      "1m 0s (- 1m 39s) train loss: 0.014.  val loss: 1.013.  train acc: 0.998.  val acc: 0.741\n",
      "\n",
      "Early Etop\n"
     ]
    },
    {
     "data": {
      "text/plain": [
       "<Figure size 432x288 with 0 Axes>"
      ]
     },
     "metadata": {},
     "output_type": "display_data"
    },
    {
     "data": {
      "image/png": "[encoded data removed]",
      "text/plain": [
       "<Figure size 432x288 with 1 Axes>"
      ]
     },
     "metadata": {
      "needs_background": "light"
     },
     "output_type": "display_data"
    },
    {
     "data": {
      "text/plain": [
       "<Figure size 432x288 with 0 Axes>"
      ]
     },
     "metadata": {},
     "output_type": "display_data"
    },
    {
     "data": {
      "image/png": "[encoded data removed]",
      "text/plain": [
       "<Figure size 432x288 with 1 Axes>"
      ]
     },
     "metadata": {
      "needs_background": "light"
     },
     "output_type": "display_data"
    }
   ],
   "source": [
    "Train.train(input_train_tensors=x_train_tensors, output_train_tensors=y_train_tensors, \n",
    "            input_val_tensors=x_test_tensors, output_val_tensors=y_test_tensors,\n",
    "            model=model, epoches=50, batch_size=50, print_every=1, plot_every=1, learning_rate=0.001)"
   ]
  }
 ],
 "metadata": {
  "kernelspec": {
   "display_name": "Python 3",
   "language": "python",
   "name": "python3"
  },
  "language_info": {
   "codemirror_mode": {
    "name": "ipython",
    "version": 3
   },
   "file_extension": ".py",
   "mimetype": "text/x-python",
   "name": "python",
   "nbconvert_exporter": "python",
   "pygments_lexer": "ipython3",
   "version": "3.6.8"
  }
 },
 "nbformat": 4,
 "nbformat_minor": 2
}
