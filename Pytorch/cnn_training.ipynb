{
 "cells": [
  {
   "cell_type": "code",
   "execution_count": 1,
   "metadata": {},
   "outputs": [
    {
     "name": "stdout",
     "output_type": "stream",
     "text": [
      "cuda:3\n"
     ]
    }
   ],
   "source": [
    "import torch\n",
    "import torch.nn as nn\n",
    "import torch.nn.functional as F\n",
    "import numpy as np\n",
    "\n",
    "from textCNN import textCNN\n",
    "import word_processing\n",
    "from sklearn.model_selection import train_test_split\n",
    "import Train\n",
    "\n",
    "device = torch.device(\"cuda:3\" if torch.cuda.is_available() else \"cpu\")\n",
    "print(device)"
   ]
  },
  {
   "cell_type": "code",
   "execution_count": 2,
   "metadata": {},
   "outputs": [],
   "source": [
    "with open('./dataset/MovieReview/rt-polaritydata/rt-polarity.pos', 'r', encoding='latin-1') as f:\n",
    "    pos_sentences = f.readlines()"
   ]
  },
  {
   "cell_type": "code",
   "execution_count": 3,
   "metadata": {},
   "outputs": [],
   "source": [
    "with open('./dataset/MovieReview/rt-polaritydata/rt-polarity.neg', 'r', encoding='latin-1') as f:\n",
    "    neg_sentences = f.readlines()"
   ]
  },
  {
   "cell_type": "markdown",
   "metadata": {},
   "source": [
    "## normalized sentences"
   ]
  },
  {
   "cell_type": "code",
   "execution_count": 4,
   "metadata": {},
   "outputs": [],
   "source": [
    "pos_sentences = [word_processing.normalizeString(sentence) for sentence in pos_sentences]\n",
    "neg_sentences = [word_processing.normalizeString(sentence) for sentence in neg_sentences]"
   ]
  },
  {
   "cell_type": "markdown",
   "metadata": {},
   "source": [
    "## build vocab"
   ]
  },
  {
   "cell_type": "code",
   "execution_count": 5,
   "metadata": {},
   "outputs": [],
   "source": [
    "Vocab = word_processing.Vocab('vocab')\n",
    "\n",
    "for i in pos_sentences:\n",
    "    Vocab.addSentence(i)\n",
    "    \n",
    "for i in neg_sentences:\n",
    "    Vocab.addSentence(i)"
   ]
  },
  {
   "cell_type": "markdown",
   "metadata": {},
   "source": [
    "## transform sentences to index sequence"
   ]
  },
  {
   "cell_type": "code",
   "execution_count": 6,
   "metadata": {},
   "outputs": [],
   "source": [
    "MAX_LEN = 20\n",
    "\n",
    "pos_seq = np.asarray([word_processing.indexesFromSentence(Vocab, sentence, MAX_LEN) for sentence in pos_sentences])\n",
    "neg_seq = np.asarray([word_processing.indexesFromSentence(Vocab, sentence, MAX_LEN) for sentence in neg_sentences])"
   ]
  },
  {
   "cell_type": "code",
   "execution_count": 7,
   "metadata": {},
   "outputs": [
    {
     "name": "stdout",
     "output_type": "stream",
     "text": [
      "pos (5331, 20)\n",
      "neg (5331, 20)\n"
     ]
    }
   ],
   "source": [
    "print('pos',pos_seq.shape)\n",
    "print('neg',neg_seq.shape)"
   ]
  },
  {
   "cell_type": "markdown",
   "metadata": {},
   "source": [
    "## prepare data for training "
   ]
  },
  {
   "cell_type": "code",
   "execution_count": 8,
   "metadata": {},
   "outputs": [],
   "source": [
    "x_train, x_test, y_train, y_test = train_test_split(np.concatenate([pos_seq, neg_seq]), \n",
    "                                                    np.concatenate([np.ones(len(pos_seq)), np.zeros(len(neg_seq))]), \n",
    "                                                    test_size=0.1, random_state=2)"
   ]
  },
  {
   "cell_type": "code",
   "execution_count": 9,
   "metadata": {},
   "outputs": [
    {
     "name": "stdout",
     "output_type": "stream",
     "text": [
      "x_train (9595, 20)\n",
      "y_train (9595,)\n",
      "x_test (1067, 20)\n",
      "y_test (1067,)\n"
     ]
    }
   ],
   "source": [
    "print('x_train',x_train.shape)\n",
    "print('y_train',y_train.shape)\n",
    "print('x_test',x_test.shape)\n",
    "print('y_test',y_test.shape)"
   ]
  },
  {
   "cell_type": "code",
   "execution_count": 10,
   "metadata": {},
   "outputs": [],
   "source": [
    "x_train_tensors = torch.LongTensor(x_train).to(device)\n",
    "y_train_tensors = torch.LongTensor(y_train).to(device)\n",
    "\n",
    "x_test_tensors = torch.LongTensor(x_test).to(device)\n",
    "y_test_tensors = torch.LongTensor(y_test).to(device)"
   ]
  },
  {
   "cell_type": "markdown",
   "metadata": {},
   "source": [
    "## training"
   ]
  },
  {
   "cell_type": "code",
   "execution_count": 11,
   "metadata": {},
   "outputs": [],
   "source": [
    "model = textCNN(vocab_size=Vocab.num_vocab, seq_length=MAX_LEN, embedding_size=300, num_labels=2).to(device)"
   ]
  },
  {
   "cell_type": "code",
   "execution_count": 12,
   "metadata": {},
   "outputs": [
    {
     "name": "stdout",
     "output_type": "stream",
     "text": [
      "iter 1 / 50\n",
      "0m 3s (- 2m 34s) train loss: 0.731.  val loss: 0.653.  train acc: 0.568.  val acc: 0.613\n",
      "val acc increase from 0.000 to 0.613\n",
      "save models\n",
      "\n",
      "iter 2 / 50\n",
      "0m 6s (- 2m 41s) train loss: 0.586.  val loss: 0.600.  train acc: 0.689.  val acc: 0.685\n",
      "val acc increase from 0.613 to 0.685\n",
      "save models\n",
      "\n",
      "iter 3 / 50\n",
      "0m 10s (- 2m 42s) train loss: 0.495.  val loss: 0.583.  train acc: 0.761.  val acc: 0.698\n",
      "val acc increase from 0.685 to 0.698\n",
      "save models\n",
      "\n",
      "iter 4 / 50\n",
      "0m 14s (- 2m 41s) train loss: 0.386.  val loss: 0.586.  train acc: 0.831.  val acc: 0.721\n",
      "val acc increase from 0.698 to 0.721\n",
      "save models\n",
      "\n",
      "iter 5 / 50\n",
      "0m 17s (- 2m 38s) train loss: 0.297.  val loss: 0.613.  train acc: 0.870.  val acc: 0.732\n",
      "val acc increase from 0.721 to 0.732\n",
      "save models\n",
      "\n",
      "iter 6 / 50\n",
      "0m 21s (- 2m 36s) train loss: 0.210.  val loss: 0.635.  train acc: 0.918.  val acc: 0.741\n",
      "val acc increase from 0.732 to 0.741\n",
      "save models\n",
      "\n",
      "iter 7 / 50\n",
      "0m 25s (- 2m 35s) train loss: 0.157.  val loss: 0.682.  train acc: 0.940.  val acc: 0.743\n",
      "val acc increase from 0.741 to 0.743\n",
      "save models\n",
      "\n",
      "iter 8 / 50\n",
      "0m 29s (- 2m 32s) train loss: 0.120.  val loss: 0.773.  train acc: 0.954.  val acc: 0.741\n",
      "\n",
      "iter 9 / 50\n",
      "0m 31s (- 2m 25s) train loss: 0.091.  val loss: 0.788.  train acc: 0.969.  val acc: 0.737\n",
      "\n",
      "iter 10 / 50\n",
      "0m 34s (- 2m 18s) train loss: 0.087.  val loss: 0.849.  train acc: 0.969.  val acc: 0.742\n",
      "learning rate deceases from 0.0005 to 0.00025\n",
      "\n",
      "iter 11 / 50\n",
      "0m 37s (- 2m 12s) train loss: 0.060.  val loss: 0.855.  train acc: 0.980.  val acc: 0.742\n",
      "\n",
      "iter 12 / 50\n",
      "0m 40s (- 2m 6s) train loss: 0.038.  val loss: 0.895.  train acc: 0.989.  val acc: 0.751\n",
      "val acc increase from 0.743 to 0.751\n",
      "save models\n",
      "\n",
      "iter 13 / 50\n",
      "0m 43s (- 2m 4s) train loss: 0.031.  val loss: 0.899.  train acc: 0.992.  val acc: 0.752\n",
      "val acc increase from 0.751 to 0.752\n",
      "save models\n",
      "\n",
      "iter 14 / 50\n",
      "0m 47s (- 2m 2s) train loss: 0.023.  val loss: 0.927.  train acc: 0.995.  val acc: 0.757\n",
      "val acc increase from 0.752 to 0.757\n",
      "save models\n",
      "\n",
      "iter 15 / 50\n",
      "0m 51s (- 1m 59s) train loss: 0.022.  val loss: 0.976.  train acc: 0.995.  val acc: 0.744\n",
      "\n",
      "iter 16 / 50\n",
      "0m 54s (- 1m 54s) train loss: 0.020.  val loss: 0.969.  train acc: 0.996.  val acc: 0.743\n",
      "learning rate deceases from 0.00025 to 0.000125\n",
      "\n",
      "iter 17 / 50\n",
      "0m 56s (- 1m 50s) train loss: 0.017.  val loss: 0.984.  train acc: 0.996.  val acc: 0.754\n",
      "\n",
      "iter 18 / 50\n",
      "0m 59s (- 1m 45s) train loss: 0.014.  val loss: 0.994.  train acc: 0.998.  val acc: 0.753\n",
      "\n",
      "iter 19 / 50\n",
      "1m 2s (- 1m 41s) train loss: 0.014.  val loss: 1.003.  train acc: 0.997.  val acc: 0.749\n",
      "learning rate deceases from 0.000125 to 6.25e-05\n",
      "\n",
      "iter 20 / 50\n",
      "1m 5s (- 1m 37s) train loss: 0.013.  val loss: 1.003.  train acc: 0.998.  val acc: 0.754\n",
      "\n",
      "iter 21 / 50\n",
      "1m 7s (- 1m 33s) train loss: 0.011.  val loss: 1.008.  train acc: 0.999.  val acc: 0.757\n",
      "\n",
      "iter 22 / 50\n",
      "1m 10s (- 1m 30s) train loss: 0.012.  val loss: 1.013.  train acc: 0.998.  val acc: 0.752\n",
      "learning rate deceases from 6.25e-05 to 3.125e-05\n",
      "\n",
      "iter 23 / 50\n",
      "1m 13s (- 1m 26s) train loss: 0.010.  val loss: 1.018.  train acc: 0.999.  val acc: 0.753\n",
      "\n",
      "iter 24 / 50\n",
      "1m 16s (- 1m 22s) train loss: 0.010.  val loss: 1.016.  train acc: 0.999.  val acc: 0.759\n",
      "val acc increase from 0.757 to 0.759\n",
      "save models\n",
      "\n",
      "iter 25 / 50\n",
      "1m 20s (- 1m 20s) train loss: 0.010.  val loss: 1.020.  train acc: 0.999.  val acc: 0.755\n",
      "\n",
      "iter 26 / 50\n",
      "1m 23s (- 1m 16s) train loss: 0.009.  val loss: 1.026.  train acc: 0.999.  val acc: 0.757\n",
      "learning rate deceases from 3.125e-05 to 1.5625e-05\n",
      "\n",
      "iter 27 / 50\n",
      "1m 26s (- 1m 13s) train loss: 0.008.  val loss: 1.027.  train acc: 0.999.  val acc: 0.754\n",
      "\n",
      "iter 28 / 50\n",
      "1m 28s (- 1m 9s) train loss: 0.009.  val loss: 1.033.  train acc: 0.999.  val acc: 0.752\n",
      "\n",
      "iter 29 / 50\n",
      "1m 31s (- 1m 6s) train loss: 0.008.  val loss: 1.033.  train acc: 0.999.  val acc: 0.750\n",
      "learning rate deceases from 1.5625e-05 to 7.8125e-06\n",
      "\n",
      "iter 30 / 50\n",
      "1m 34s (- 1m 2s) train loss: 0.008.  val loss: 1.034.  train acc: 0.999.  val acc: 0.754\n",
      "\n",
      "iter 31 / 50\n",
      "1m 37s (- 0m 59s) train loss: 0.008.  val loss: 1.035.  train acc: 0.999.  val acc: 0.754\n",
      "\n",
      "iter 32 / 50\n",
      "1m 39s (- 0m 56s) train loss: 0.008.  val loss: 1.037.  train acc: 1.000.  val acc: 0.754\n",
      "learning rate deceases from 7.8125e-06 to 3.90625e-06\n",
      "\n",
      "iter 33 / 50\n",
      "1m 42s (- 0m 52s) train loss: 0.008.  val loss: 1.039.  train acc: 0.999.  val acc: 0.753\n",
      "\n",
      "iter 34 / 50\n",
      "1m 45s (- 0m 49s) train loss: 0.008.  val loss: 1.040.  train acc: 0.999.  val acc: 0.752\n",
      "\n",
      "iter 35 / 50\n",
      "1m 48s (- 0m 46s) train loss: 0.009.  val loss: 1.042.  train acc: 0.998.  val acc: 0.752\n",
      "learning rate deceases from 3.90625e-06 to 1.953125e-06\n",
      "\n",
      "iter 36 / 50\n",
      "1m 51s (- 0m 43s) train loss: 0.008.  val loss: 1.043.  train acc: 0.999.  val acc: 0.752\n",
      "\n",
      "iter 37 / 50\n",
      "1m 53s (- 0m 39s) train loss: 0.007.  val loss: 1.043.  train acc: 0.999.  val acc: 0.752\n",
      "\n",
      "iter 38 / 50\n",
      "1m 56s (- 0m 36s) train loss: 0.008.  val loss: 1.044.  train acc: 0.999.  val acc: 0.753\n",
      "learning rate deceases from 1.953125e-06 to 9.765625e-07\n",
      "\n",
      "iter 39 / 50\n",
      "1m 59s (- 0m 33s) train loss: 0.007.  val loss: 1.044.  train acc: 0.999.  val acc: 0.754\n",
      "\n",
      "iter 40 / 50\n",
      "2m 1s (- 0m 30s) train loss: 0.008.  val loss: 1.044.  train acc: 0.999.  val acc: 0.754\n",
      "\n",
      "iter 41 / 50\n",
      "2m 4s (- 0m 27s) train loss: 0.007.  val loss: 1.044.  train acc: 0.999.  val acc: 0.754\n",
      "learning rate deceases from 9.765625e-07 to 4.8828125e-07\n",
      "\n",
      "iter 42 / 50\n",
      "2m 7s (- 0m 24s) train loss: 0.007.  val loss: 1.045.  train acc: 1.000.  val acc: 0.754\n",
      "\n",
      "iter 43 / 50\n",
      "2m 10s (- 0m 21s) train loss: 0.008.  val loss: 1.045.  train acc: 0.999.  val acc: 0.754\n",
      "\n",
      "iter 44 / 50\n",
      "2m 13s (- 0m 18s) train loss: 0.007.  val loss: 1.045.  train acc: 0.999.  val acc: 0.754\n",
      "learning rate deceases from 4.8828125e-07 to 2.44140625e-07\n",
      "\n",
      "iter 45 / 50\n",
      "2m 16s (- 0m 15s) train loss: 0.008.  val loss: 1.045.  train acc: 0.999.  val acc: 0.754\n",
      "\n",
      "iter 46 / 50\n",
      "2m 19s (- 0m 12s) train loss: 0.008.  val loss: 1.045.  train acc: 0.999.  val acc: 0.754\n",
      "\n",
      "iter 47 / 50\n",
      "2m 21s (- 0m 9s) train loss: 0.008.  val loss: 1.045.  train acc: 0.999.  val acc: 0.754\n",
      "learning rate deceases from 2.44140625e-07 to 1.220703125e-07\n",
      "\n",
      "iter 48 / 50\n",
      "2m 24s (- 0m 6s) train loss: 0.007.  val loss: 1.045.  train acc: 0.999.  val acc: 0.754\n",
      "\n",
      "iter 49 / 50\n",
      "2m 27s (- 0m 3s) train loss: 0.008.  val loss: 1.045.  train acc: 0.999.  val acc: 0.754\n",
      "\n",
      "iter 50 / 50\n",
      "2m 30s (- 0m 0s) train loss: 0.008.  val loss: 1.045.  train acc: 0.999.  val acc: 0.754\n",
      "learning rate deceases from 1.220703125e-07 to 6.103515625e-08\n",
      "\n"
     ]
    },
    {
     "data": {
      "text/plain": [
       "<Figure size 432x288 with 0 Axes>"
      ]
     },
     "metadata": {},
     "output_type": "display_data"
    },
    {
     "data": {
      "image/png": "[encoded data removed]",
      "text/plain": [
       "<Figure size 432x288 with 1 Axes>"
      ]
     },
     "metadata": {
      "needs_background": "light"
     },
     "output_type": "display_data"
    },
    {
     "data": {
      "text/plain": [
       "<Figure size 432x288 with 0 Axes>"
      ]
     },
     "metadata": {},
     "output_type": "display_data"
    },
    {
     "data": {
      "image/png": "[encoded data removed]",
      "text/plain": [
       "<Figure size 432x288 with 1 Axes>"
      ]
     },
     "metadata": {
      "needs_background": "light"
     },
     "output_type": "display_data"
    }
   ],
   "source": [
    "Train.train(input_train_tensors=x_train_tensors, output_train_tensors=y_train_tensors, \n",
    "            input_val_tensors=x_test_tensors, output_val_tensors=y_test_tensors,\n",
    "            model=model, epoches=50, batch_size=50, print_every=1, plot_every=1, learning_rate=0.001)"
   ]
  },
  {
   "cell_type": "code",
   "execution_count": null,
   "metadata": {},
   "outputs": [],
   "source": []
  },
  {
   "cell_type": "code",
   "execution_count": null,
   "metadata": {},
   "outputs": [],
   "source": []
  }
 ],
 "metadata": {
  "kernelspec": {
   "display_name": "Python 3",
   "language": "python",
   "name": "python3"
  },
  "language_info": {
   "codemirror_mode": {
    "name": "ipython",
    "version": 3
   },
   "file_extension": ".py",
   "mimetype": "text/x-python",
   "name": "python",
   "nbconvert_exporter": "python",
   "pygments_lexer": "ipython3",
   "version": "3.6.8"
  }
 },
 "nbformat": 4,
 "nbformat_minor": 2
}
