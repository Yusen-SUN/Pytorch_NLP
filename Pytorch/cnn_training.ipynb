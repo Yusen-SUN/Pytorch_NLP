{
 "cells": [
  {
   "cell_type": "code",
   "execution_count": 1,
   "metadata": {},
   "outputs": [
    {
     "name": "stdout",
     "output_type": "stream",
     "text": [
      "cuda:3\n"
     ]
    }
   ],
   "source": [
    "import torch\n",
    "import torch.nn as nn\n",
    "import torch.nn.functional as F\n",
    "import numpy as np\n",
    "\n",
    "from textCNN import textCNN\n",
    "import word_processing\n",
    "from sklearn.model_selection import train_test_split\n",
    "import Train\n",
    "\n",
    "device = torch.device(\"cuda:3\" if torch.cuda.is_available() else \"cpu\")\n",
    "print(device)"
   ]
  },
  {
   "cell_type": "code",
   "execution_count": 2,
   "metadata": {},
   "outputs": [],
   "source": [
    "with open('./dataset/MovieReview/rt-polaritydata/rt-polarity.pos', 'r', encoding='latin-1') as f:\n",
    "    pos_sentences = f.readlines()"
   ]
  },
  {
   "cell_type": "code",
   "execution_count": 3,
   "metadata": {},
   "outputs": [],
   "source": [
    "with open('./dataset/MovieReview/rt-polaritydata/rt-polarity.neg', 'r', encoding='latin-1') as f:\n",
    "    neg_sentences = f.readlines()"
   ]
  },
  {
   "cell_type": "markdown",
   "metadata": {},
   "source": [
    "## normalized sentences"
   ]
  },
  {
   "cell_type": "code",
   "execution_count": 4,
   "metadata": {},
   "outputs": [],
   "source": [
    "pos_sentences = [word_processing.normalizeString(sentence) for sentence in pos_sentences]\n",
    "neg_sentences = [word_processing.normalizeString(sentence) for sentence in neg_sentences]"
   ]
  },
  {
   "cell_type": "markdown",
   "metadata": {},
   "source": [
    "## build vocab"
   ]
  },
  {
   "cell_type": "code",
   "execution_count": 5,
   "metadata": {},
   "outputs": [],
   "source": [
    "Vocab = word_processing.Vocab('vocab')\n",
    "\n",
    "for i in pos_sentences:\n",
    "    Vocab.addSentence(i)\n",
    "    \n",
    "for i in neg_sentences:\n",
    "    Vocab.addSentence(i)"
   ]
  },
  {
   "cell_type": "markdown",
   "metadata": {},
   "source": [
    "## transform sentences to index sequence"
   ]
  },
  {
   "cell_type": "code",
   "execution_count": 6,
   "metadata": {},
   "outputs": [],
   "source": [
    "MAX_LEN = 20\n",
    "\n",
    "pos_seq = np.asarray([word_processing.indexesFromSentence(Vocab, sentence, MAX_LEN) for sentence in pos_sentences])\n",
    "neg_seq = np.asarray([word_processing.indexesFromSentence(Vocab, sentence, MAX_LEN) for sentence in neg_sentences])"
   ]
  },
  {
   "cell_type": "code",
   "execution_count": 7,
   "metadata": {},
   "outputs": [
    {
     "name": "stdout",
     "output_type": "stream",
     "text": [
      "pos (5331, 20)\n",
      "neg (5331, 20)\n"
     ]
    }
   ],
   "source": [
    "print('pos',pos_seq.shape)\n",
    "print('neg',neg_seq.shape)"
   ]
  },
  {
   "cell_type": "markdown",
   "metadata": {},
   "source": [
    "## prepare data for training "
   ]
  },
  {
   "cell_type": "code",
   "execution_count": 8,
   "metadata": {},
   "outputs": [],
   "source": [
    "x_train, x_test, y_train, y_test = train_test_split(np.concatenate([pos_seq, neg_seq]), \n",
    "                                                    np.concatenate([np.ones(len(pos_seq)), np.zeros(len(neg_seq))]), \n",
    "                                                    test_size=0.1, random_state=2)"
   ]
  },
  {
   "cell_type": "code",
   "execution_count": 9,
   "metadata": {},
   "outputs": [
    {
     "name": "stdout",
     "output_type": "stream",
     "text": [
      "x_train (9595, 20)\n",
      "y_train (9595,)\n",
      "x_test (1067, 20)\n",
      "y_test (1067,)\n"
     ]
    }
   ],
   "source": [
    "print('x_train',x_train.shape)\n",
    "print('y_train',y_train.shape)\n",
    "print('x_test',x_test.shape)\n",
    "print('y_test',y_test.shape)"
   ]
  },
  {
   "cell_type": "code",
   "execution_count": 10,
   "metadata": {},
   "outputs": [],
   "source": [
    "x_train_tensors = torch.LongTensor(x_train).to(device)\n",
    "y_train_tensors = torch.LongTensor(y_train).to(device)\n",
    "\n",
    "x_test_tensors = torch.LongTensor(x_test).to(device)\n",
    "y_test_tensors = torch.LongTensor(y_test).to(device)"
   ]
  },
  {
   "cell_type": "markdown",
   "metadata": {},
   "source": [
    "## training"
   ]
  },
  {
   "cell_type": "code",
   "execution_count": 11,
   "metadata": {},
   "outputs": [],
   "source": [
    "model = textCNN(vocab_size=Vocab.num_vocab, seq_length=MAX_LEN, embedding_size=300, num_labels=2).to(device)"
   ]
  },
  {
   "cell_type": "code",
   "execution_count": 12,
   "metadata": {},
   "outputs": [
    {
     "name": "stdout",
     "output_type": "stream",
     "text": [
      "iter 1 / 50\n",
      "0m 2s (- 2m 26s) train loss: 0.723.  val loss: 0.656.  train acc: 0.573.  val acc: 0.604\n",
      "val acc increase from 0.000 to 0.604\n",
      "save models\n",
      "\n",
      "iter 2 / 50\n",
      "0m 6s (- 2m 40s) train loss: 0.584.  val loss: 0.612.  train acc: 0.686.  val acc: 0.668\n",
      "val acc increase from 0.604 to 0.668\n",
      "save models\n",
      "\n",
      "iter 3 / 50\n",
      "0m 10s (- 2m 41s) train loss: 0.481.  val loss: 0.599.  train acc: 0.767.  val acc: 0.690\n",
      "val acc increase from 0.668 to 0.690\n",
      "save models\n",
      "\n",
      "iter 4 / 50\n",
      "0m 13s (- 2m 40s) train loss: 0.380.  val loss: 0.613.  train acc: 0.837.  val acc: 0.714\n",
      "val acc increase from 0.690 to 0.714\n",
      "save models\n",
      "\n",
      "iter 5 / 50\n",
      "0m 17s (- 2m 37s) train loss: 0.283.  val loss: 0.629.  train acc: 0.883.  val acc: 0.736\n",
      "val acc increase from 0.714 to 0.736\n",
      "save models\n",
      "\n",
      "iter 6 / 50\n",
      "0m 21s (- 2m 35s) train loss: 0.204.  val loss: 0.680.  train acc: 0.920.  val acc: 0.737\n",
      "val acc increase from 0.736 to 0.737\n",
      "save models\n",
      "\n",
      "iter 7 / 50\n",
      "0m 24s (- 2m 32s) train loss: 0.153.  val loss: 0.745.  train acc: 0.943.  val acc: 0.742\n",
      "val acc increase from 0.737 to 0.742\n",
      "save models\n",
      "\n",
      "iter 8 / 50\n",
      "0m 28s (- 2m 28s) train loss: 0.127.  val loss: 0.807.  train acc: 0.954.  val acc: 0.735\n",
      "\n",
      "iter 9 / 50\n",
      "0m 30s (- 2m 19s) train loss: 0.101.  val loss: 0.823.  train acc: 0.961.  val acc: 0.747\n",
      "val acc increase from 0.742 to 0.747\n",
      "save models\n",
      "\n",
      "iter 10 / 50\n",
      "0m 34s (- 2m 16s) train loss: 0.082.  val loss: 0.894.  train acc: 0.972.  val acc: 0.734\n",
      "\n",
      "iter 11 / 50\n",
      "0m 36s (- 2m 9s) train loss: 0.077.  val loss: 0.955.  train acc: 0.970.  val acc: 0.737\n",
      "learning rate deceases from 0.0005 to 0.00025\n",
      "\n",
      "iter 12 / 50\n",
      "0m 39s (- 2m 3s) train loss: 0.053.  val loss: 0.954.  train acc: 0.983.  val acc: 0.739\n",
      "\n",
      "iter 13 / 50\n",
      "0m 41s (- 1m 58s) train loss: 0.032.  val loss: 0.967.  train acc: 0.992.  val acc: 0.745\n",
      "\n",
      "iter 14 / 50\n",
      "0m 44s (- 1m 53s) train loss: 0.027.  val loss: 0.993.  train acc: 0.992.  val acc: 0.743\n",
      "learning rate deceases from 0.00025 to 0.000125\n",
      "\n",
      "iter 15 / 50\n",
      "0m 46s (- 1m 48s) train loss: 0.019.  val loss: 1.001.  train acc: 0.997.  val acc: 0.746\n",
      "\n",
      "iter 16 / 50\n",
      "0m 49s (- 1m 44s) train loss: 0.017.  val loss: 1.011.  train acc: 0.997.  val acc: 0.747\n",
      "\n",
      "iter 17 / 50\n",
      "0m 51s (- 1m 40s) train loss: 0.017.  val loss: 1.027.  train acc: 0.997.  val acc: 0.747\n",
      "learning rate deceases from 0.000125 to 6.25e-05\n",
      "\n",
      "iter 18 / 50\n",
      "0m 54s (- 1m 36s) train loss: 0.013.  val loss: 1.029.  train acc: 0.998.  val acc: 0.750\n",
      "val acc increase from 0.747 to 0.750\n",
      "save models\n",
      "\n",
      "iter 19 / 50\n",
      "0m 57s (- 1m 34s) train loss: 0.012.  val loss: 1.034.  train acc: 0.999.  val acc: 0.749\n"
     ]
    },
    {
     "data": {
      "text/plain": [
       "<Figure size 432x288 with 0 Axes>"
      ]
     },
     "metadata": {},
     "output_type": "display_data"
    },
    {
     "data": {
      "image/png": "[encoded data removed]",
      "text/plain": [
       "<Figure size 432x288 with 1 Axes>"
      ]
     },
     "metadata": {
      "needs_background": "light"
     },
     "output_type": "display_data"
    },
    {
     "data": {
      "text/plain": [
       "<Figure size 432x288 with 0 Axes>"
      ]
     },
     "metadata": {},
     "output_type": "display_data"
    },
    {
     "data": {
      "image/png": "[encoded data removed]",
      "text/plain": [
       "<Figure size 432x288 with 1 Axes>"
      ]
     },
     "metadata": {
      "needs_background": "light"
     },
     "output_type": "display_data"
    }
   ],
   "source": [
    "Train.train(input_train_tensors=x_train_tensors, output_train_tensors=y_train_tensors, \n",
    "            input_val_tensors=x_test_tensors, output_val_tensors=y_test_tensors,\n",
    "            model=model, epoches=50, batch_size=50, print_every=1, plot_every=1, learning_rate=0.001)"
   ]
  },
  {
   "cell_type": "code",
   "execution_count": null,
   "metadata": {},
   "outputs": [],
   "source": []
  },
  {
   "cell_type": "code",
   "execution_count": null,
   "metadata": {},
   "outputs": [],
   "source": []
  },
  {
   "cell_type": "code",
   "execution_count": null,
   "metadata": {},
   "outputs": [],
   "source": []
  }
 ],
 "metadata": {
  "kernelspec": {
   "display_name": "Python 3",
   "language": "python",
   "name": "python3"
  },
  "language_info": {
   "codemirror_mode": {
    "name": "ipython",
    "version": 3
   },
   "file_extension": ".py",
   "mimetype": "text/x-python",
   "name": "python",
   "nbconvert_exporter": "python",
   "pygments_lexer": "ipython3",
   "version": "3.6.8"
  }
 },
 "nbformat": 4,
 "nbformat_minor": 2
}
