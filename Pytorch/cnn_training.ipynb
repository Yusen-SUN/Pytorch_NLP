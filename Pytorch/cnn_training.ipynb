{
 "cells": [
  {
   "cell_type": "code",
   "execution_count": 1,
   "metadata": {},
   "outputs": [
    {
     "name": "stdout",
     "output_type": "stream",
     "text": [
      "cuda:3\n"
     ]
    }
   ],
   "source": [
    "import torch\n",
    "import torch.nn as nn\n",
    "import torch.nn.functional as F\n",
    "import numpy as np\n",
    "\n",
    "from textCNN import textCNN\n",
    "import word_processing\n",
    "from sklearn.model_selection import train_test_split\n",
    "import Train\n",
    "\n",
    "device = torch.device(\"cuda:3\" if torch.cuda.is_available() else \"cpu\")\n",
    "print(device)"
   ]
  },
  {
   "cell_type": "code",
   "execution_count": 2,
   "metadata": {},
   "outputs": [],
   "source": [
    "with open('./dataset/MovieReview/rt-polaritydata/rt-polarity.pos', 'r', encoding='latin-1') as f:\n",
    "    pos_sentences = f.readlines()"
   ]
  },
  {
   "cell_type": "code",
   "execution_count": 3,
   "metadata": {},
   "outputs": [],
   "source": [
    "with open('./dataset/MovieReview/rt-polaritydata/rt-polarity.neg', 'r', encoding='latin-1') as f:\n",
    "    neg_sentences = f.readlines()"
   ]
  },
  {
   "cell_type": "markdown",
   "metadata": {},
   "source": [
    "## normalized sentences"
   ]
  },
  {
   "cell_type": "code",
   "execution_count": 4,
   "metadata": {},
   "outputs": [],
   "source": [
    "pos_sentences = [word_processing.normalizeString(sentence) for sentence in pos_sentences]\n",
    "neg_sentences = [word_processing.normalizeString(sentence) for sentence in neg_sentences]"
   ]
  },
  {
   "cell_type": "markdown",
   "metadata": {},
   "source": [
    "## build vocab"
   ]
  },
  {
   "cell_type": "code",
   "execution_count": 5,
   "metadata": {},
   "outputs": [],
   "source": [
    "Vocab = word_processing.Vocab('vocab')\n",
    "\n",
    "for i in pos_sentences:\n",
    "    Vocab.addSentence(i)\n",
    "    \n",
    "for i in neg_sentences:\n",
    "    Vocab.addSentence(i)"
   ]
  },
  {
   "cell_type": "markdown",
   "metadata": {},
   "source": [
    "## transform sentences to index sequence"
   ]
  },
  {
   "cell_type": "code",
   "execution_count": 6,
   "metadata": {},
   "outputs": [],
   "source": [
    "MAX_LEN = 20\n",
    "\n",
    "pos_seq = np.asarray([word_processing.indexesFromSentence(Vocab, sentence, MAX_LEN) for sentence in pos_sentences])\n",
    "neg_seq = np.asarray([word_processing.indexesFromSentence(Vocab, sentence, MAX_LEN) for sentence in neg_sentences])"
   ]
  },
  {
   "cell_type": "code",
   "execution_count": 7,
   "metadata": {},
   "outputs": [
    {
     "name": "stdout",
     "output_type": "stream",
     "text": [
      "pos (5331, 20)\n",
      "neg (5331, 20)\n"
     ]
    }
   ],
   "source": [
    "print('pos',pos_seq.shape)\n",
    "print('neg',neg_seq.shape)"
   ]
  },
  {
   "cell_type": "markdown",
   "metadata": {},
   "source": [
    "## prepare data for training "
   ]
  },
  {
   "cell_type": "code",
   "execution_count": 8,
   "metadata": {},
   "outputs": [],
   "source": [
    "x_train, x_test, y_train, y_test = train_test_split(np.concatenate([pos_seq, neg_seq]), \n",
    "                                                    np.concatenate([np.ones(len(pos_seq)), np.zeros(len(neg_seq))]), \n",
    "                                                    test_size=0.1, random_state=2)"
   ]
  },
  {
   "cell_type": "code",
   "execution_count": 9,
   "metadata": {},
   "outputs": [
    {
     "name": "stdout",
     "output_type": "stream",
     "text": [
      "x_train (9595, 20)\n",
      "y_train (9595,)\n",
      "x_test (1067, 20)\n",
      "y_test (1067,)\n"
     ]
    }
   ],
   "source": [
    "print('x_train',x_train.shape)\n",
    "print('y_train',y_train.shape)\n",
    "print('x_test',x_test.shape)\n",
    "print('y_test',y_test.shape)"
   ]
  },
  {
   "cell_type": "code",
   "execution_count": 10,
   "metadata": {},
   "outputs": [],
   "source": [
    "x_train_tensors = torch.LongTensor(x_train).to(device)\n",
    "y_train_tensors = torch.LongTensor(y_train).to(device)\n",
    "\n",
    "x_test_tensors = torch.LongTensor(x_test).to(device)\n",
    "y_test_tensors = torch.LongTensor(y_test).to(device)"
   ]
  },
  {
   "cell_type": "markdown",
   "metadata": {},
   "source": [
    "## training"
   ]
  },
  {
   "cell_type": "code",
   "execution_count": 11,
   "metadata": {},
   "outputs": [],
   "source": [
    "model = textCNN(vocab_size=Vocab.num_vocab, seq_length=MAX_LEN, embedding_size=300, num_labels=2).to(device)"
   ]
  },
  {
   "cell_type": "code",
   "execution_count": 12,
   "metadata": {},
   "outputs": [
    {
     "name": "stdout",
     "output_type": "stream",
     "text": [
      "iter 1 / 20\n",
      "Evalidation: 1056/1067, loss:0.7309709028764204\n",
      "('0m 2s (- 0m 55s)', 1, 5.0, ' train loss:', 0.726965454483231, ' val loss:', 0.680186874975975)\n",
      "\n",
      "('0m 2s (- 0m 55s)', 1, 5.0, ' train acc:', 0.5704012506513809, ' val loss:', 0.5745079662605436)\n",
      "val acc increase from 0 to 0.5745079662605436\n",
      "save models\n",
      "iter 2 / 20\n",
      "Evalidation: 1056/1067, loss:0.624745412306352\n",
      "('0m 6s (- 0m 59s)', 2, 10.0, ' train loss:', 0.5602353824060866, ' val loss:', 0.5993437883221555)\n",
      "\n",
      "('0m 6s (- 0m 59s)', 2, 10.0, ' train acc:', 0.713392391870766, ' val loss:', 0.6616682286785379)\n",
      "val acc increase from 0.5745079662605436 to 0.6616682286785379\n",
      "save models\n",
      "iter 3 / 20\n",
      "Evalidation: 1056/1067, loss:0.7003915960138495\n",
      "('0m 10s (- 0m 58s)', 3, 15.0, ' train loss:', 0.4344281825253962, ' val loss:', 0.6234162606808663)\n",
      "\n",
      "('0m 10s (- 0m 58s)', 3, 15.0, ' train acc:', 0.7993746743095362, ' val loss:', 0.6822867853795689)\n",
      "val acc increase from 0.6616682286785379 to 0.6822867853795689\n",
      "save models\n",
      "iter 4 / 20\n",
      "Evalidation: 1056/1067, loss:0.7097595388239081\n",
      "('0m 13s (- 0m 55s)', 4, 20.0, ' train loss:', 0.31361484363589703, ' val loss:', 0.6434001958359037)\n",
      "\n",
      "('0m 13s (- 0m 55s)', 4, 20.0, ' train acc:', 0.864616988014591, ' val loss:', 0.7150890346766635)\n",
      "val acc increase from 0.6822867853795689 to 0.7150890346766635\n",
      "save models\n",
      "iter 5 / 20\n",
      "Evalidation: 1056/1067, loss:0.823715556751598\n",
      "('0m 17s (- 0m 52s)', 5, 25.0, ' train loss:', 0.20543268418920854, ' val loss:', 0.7195184362638521)\n",
      "\n",
      "('0m 17s (- 0m 52s)', 5, 25.0, ' train acc:', 0.9167274622199062, ' val loss:', 0.7235238987816307)\n",
      "val acc increase from 0.7150890346766635 to 0.7235238987816307\n",
      "save models\n",
      "iter 6 / 20\n",
      "Evalidation: 1056/1067, loss:0.7898945374922319\n",
      "('0m 20s (- 0m 48s)', 6, 30.0, ' train loss:', 0.14304738388886484, ' val loss:', 0.7768902050186343)\n",
      "\n",
      "('0m 20s (- 0m 48s)', 6, 30.0, ' train acc:', 0.944137571651902, ' val loss:', 0.725398313027179)\n",
      "val acc increase from 0.7235238987816307 to 0.725398313027179\n",
      "save models\n",
      "iter 7 / 20\n",
      "Evalidation: 1056/1067, loss:0.8497371673583984\n",
      "('0m 24s (- 0m 45s)', 7, 35.0, ' train loss:', 0.10012055783920328, ' val loss:', 0.8624845806861885)\n",
      "\n",
      "('0m 24s (- 0m 45s)', 7, 35.0, ' train acc:', 0.9627931214174049, ' val loss:', 0.7225866916588566)\n",
      "iter 8 / 20\n",
      "Evalidation: 1056/1067, loss:0.7956275072964755\n",
      "('0m 27s (- 0m 40s)', 8, 40.0, ' train loss:', 0.07258151163341726, ' val loss:', 0.9236618308341715)\n",
      "\n",
      "('0m 27s (- 0m 40s)', 8, 40.0, ' train acc:', 0.9745700885878061, ' val loss:', 0.7263355201499532)\n",
      "val acc increase from 0.725398313027179 to 0.7263355201499532\n",
      "save models\n",
      "iter 9 / 20\n",
      "Evalidation: 1056/1067, loss:0.5985697399486195\n",
      "('0m 30s (- 0m 37s)', 9, 45.0, ' train loss:', 0.05157031355083082, ' val loss:', 1.024236515066617)\n",
      "\n",
      "('0m 30s (- 0m 37s)', 9, 45.0, ' train acc:', 0.9826993225638353, ' val loss:', 0.7319587628865979)\n",
      "val acc increase from 0.7263355201499532 to 0.7319587628865979\n",
      "save models\n",
      "iter 10 / 20\n",
      "Evalidation: 1056/1067, loss:0.8941946896639738\n",
      "('0m 34s (- 0m 34s)', 10, 50.0, ' train loss:', 0.0429157702701672, ' val loss:', 1.108674470352702)\n",
      "\n",
      "('0m 34s (- 0m 34s)', 10, 50.0, ' train acc:', 0.9838457529963522, ' val loss:', 0.7300843486410497)\n",
      "iter 11 / 20\n",
      "Evalidation: 1056/1067, loss:0.964996337890625\n",
      "('0m 36s (- 0m 30s)', 11, 55.00000000000001, ' train loss:', 0.03471402925181476, ' val loss:', 1.1639637397401448)\n",
      "\n",
      "('0m 36s (- 0m 30s)', 11, 55.00000000000001, ' train acc:', 0.9889525794684731, ' val loss:', 0.7272727272727273)\n",
      "iter 12 / 20\n",
      "Evalidation: 1056/1067, loss:0.8988107334483754\n",
      "('0m 39s (- 0m 26s)', 12, 60.0, ' train loss:', 0.03209418112440243, ' val loss:', 1.2647710467680884)\n",
      "\n",
      "('0m 39s (- 0m 26s)', 12, 60.0, ' train acc:', 0.9885356956748307, ' val loss:', 0.7263355201499532)\n",
      "iter 13 / 20\n",
      "Evalidation: 1056/1067, loss:1.005544575777921\n",
      "('0m 41s (- 0m 22s)', 13, 65.0, ' train loss:', 0.03472219794957572, ' val loss:', 1.3221249289901433)\n",
      "\n",
      "('0m 41s (- 0m 22s)', 13, 65.0, ' train acc:', 0.9874934861907243, ' val loss:', 0.7319587628865979)\n",
      "iter 14 / 20\n",
      "Evalidation: 1056/1067, loss:0.8430792201649059\n",
      "('0m 44s (- 0m 19s)', 14, 70.0, ' train loss:', 0.029048757667208228, ' val loss:', 1.391248321354445)\n",
      "\n",
      "('0m 44s (- 0m 19s)', 14, 70.0, ' train acc:', 0.9890568004168838, ' val loss:', 0.7413308341143393)\n",
      "val acc increase from 0.7319587628865979 to 0.7413308341143393\n",
      "save models\n",
      "iter 15 / 20\n",
      "Evalidation: 1056/1067, loss:1.3020855296741833\n",
      "('0m 48s (- 0m 16s)', 15, 75.0, ' train loss:', 0.020269967075155822, ' val loss:', 1.4781343036426375)\n",
      "\n",
      "('0m 48s (- 0m 16s)', 15, 75.0, ' train acc:', 0.9936425221469516, ' val loss:', 0.7291471415182755)\n",
      "iter 16 / 20\n",
      "Evalidation: 1056/1067, loss:1.6483823602849788\n",
      "('0m 50s (- 0m 12s)', 16, 80.0, ' train loss:', 0.025777785881864582, ' val loss:', 1.6027538492619264)\n",
      "\n",
      "('0m 50s (- 0m 12s)', 16, 80.0, ' train acc:', 0.9917665450755602, ' val loss:', 0.7235238987816307)\n",
      "iter 17 / 20\n",
      "Evalidation: 1056/1067, loss:1.3858279314908115\n",
      "('0m 53s (- 0m 9s)', 17, 85.0, ' train loss:', 0.01753855778468329, ' val loss:', 1.7269292266545389)\n",
      "\n",
      "('0m 53s (- 0m 9s)', 17, 85.0, ' train acc:', 0.993225638353309, ' val loss:', 0.7244611059044048)\n",
      "iter 18 / 20\n",
      "Evalidation: 1056/1067, loss:1.1126242550936611\n",
      "('0m 55s (- 0m 6s)', 18, 90.0, ' train loss:', 0.028921535940003185, ' val loss:', 1.7174208336269732)\n",
      "\n",
      "('0m 55s (- 0m 6s)', 18, 90.0, ' train acc:', 0.9890568004168838, ' val loss:', 0.7319587628865979)\n",
      "iter 19 / 20\n",
      "Evalidation: 1056/1067, loss:2.315950567072088\n",
      "('0m 58s (- 0m 3s)', 19, 95.0, ' train loss:', 0.027452183188312437, ' val loss:', 1.8615290133217952)\n",
      "\n",
      "('0m 58s (- 0m 3s)', 19, 95.0, ' train acc:', 0.9891610213652944, ' val loss:', 0.725398313027179)\n",
      "iter 20 / 20\n",
      "Evalidation: 1056/1067, loss:1.2889529141512783\n",
      "('1m 1s (- 0m 0s)', 20, 100.0, ' train loss:', 0.02832494848662596, ' val loss:', 1.8652610993318282)\n",
      "\n",
      "('1m 1s (- 0m 0s)', 20, 100.0, ' train acc:', 0.9910369984366858, ' val loss:', 0.7300843486410497)\n"
     ]
    },
    {
     "data": {
      "text/plain": [
       "<Figure size 432x288 with 0 Axes>"
      ]
     },
     "metadata": {},
     "output_type": "display_data"
    },
    {
     "data": {
      "image/png": "[encoded data removed]",
      "text/plain": [
       "<Figure size 432x288 with 1 Axes>"
      ]
     },
     "metadata": {
      "needs_background": "light"
     },
     "output_type": "display_data"
    },
    {
     "data": {
      "text/plain": [
       "<Figure size 432x288 with 0 Axes>"
      ]
     },
     "metadata": {},
     "output_type": "display_data"
    },
    {
     "data": {
      "image/png": "[encoded data removed]",
      "text/plain": [
       "<Figure size 432x288 with 1 Axes>"
      ]
     },
     "metadata": {
      "needs_background": "light"
     },
     "output_type": "display_data"
    }
   ],
   "source": [
    "Train.train(input_train_tensors=x_train_tensors, output_train_tensors=y_train_tensors, \n",
    "            input_val_tensors=x_test_tensors, output_val_tensors=y_test_tensors,\n",
    "            model=model, epoches=20, batch_size=50, print_every=1, plot_every=1, learning_rate=0.001)"
   ]
  }
 ],
 "metadata": {
  "kernelspec": {
   "display_name": "Python 3",
   "language": "python",
   "name": "python3"
  },
  "language_info": {
   "codemirror_mode": {
    "name": "ipython",
    "version": 3
   },
   "file_extension": ".py",
   "mimetype": "text/x-python",
   "name": "python",
   "nbconvert_exporter": "python",
   "pygments_lexer": "ipython3",
   "version": "3.6.8"
  }
 },
 "nbformat": 4,
 "nbformat_minor": 2
}
