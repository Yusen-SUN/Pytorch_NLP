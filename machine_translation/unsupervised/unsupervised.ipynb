{
 "cells": [
  {
   "cell_type": "code",
   "execution_count": 1,
   "metadata": {},
   "outputs": [
    {
     "name": "stdout",
     "output_type": "stream",
     "text": [
      "cuda:2\n"
     ]
    }
   ],
   "source": [
    "from __future__ import unicode_literals, print_function, division\n",
    "from io import open\n",
    "import sentencepiece as spm\n",
    "\n",
    "\n",
    "import string\n",
    "import re\n",
    "import random\n",
    "import numpy as np\n",
    "import os\n",
    "\n",
    "import torch\n",
    "import torch.nn as nn\n",
    "from torch import optim\n",
    "import torch.nn.functional as F\n",
    "\n",
    "import sentencepiece as spm\n",
    "\n",
    "from word2vector import Vocab\n",
    "from EncoderRNN import EncoderRNN\n",
    "from Attention import Attn\n",
    "from DecoderRNN import DecoderRNN\n",
    "from Data_reading import input_data\n",
    "from Pretrained_embedding import pre_embedding\n",
    "import Train\n",
    "from textCNN import textCNN\n",
    "\n",
    "device = torch.device(\"cuda:2\" if torch.cuda.is_available() else \"cpu\")\n",
    "print(device)"
   ]
  },
  {
   "cell_type": "code",
   "execution_count": 2,
   "metadata": {},
   "outputs": [
    {
     "data": {
      "text/plain": [
       "True"
      ]
     },
     "execution_count": 2,
     "metadata": {},
     "output_type": "execute_result"
    }
   ],
   "source": [
    "sp_user = spm.SentencePieceProcessor()\n",
    "sp_user.load('m.model')\n"
   ]
  },
  {
   "cell_type": "code",
   "execution_count": 3,
   "metadata": {},
   "outputs": [
    {
     "name": "stdout",
     "output_type": "stream",
     "text": [
      "src_train (98634, 40)\n",
      "src_train_lens (98634,)\n",
      "tgt_train (98634, 40)\n",
      "tgt_train_lens (98634,)\n",
      "src_val (4962, 40)\n",
      "src_val_lens (4962,)\n",
      "tgt_val (4962, 40)\n",
      "tgt_val_lens (4962,)\n"
     ]
    }
   ],
   "source": [
    "MAX_LEN = 40\n",
    "src_train, src_train_lens, tgt_train, tgt_train_lens, src_val, src_val_lens, tgt_val, tgt_val_lens =  input_data(sp_user, MAX_LEN)"
   ]
  },
  {
   "cell_type": "code",
   "execution_count": 4,
   "metadata": {},
   "outputs": [],
   "source": [
    "# import matplotlib.pyplot as plt"
   ]
  },
  {
   "cell_type": "code",
   "execution_count": 5,
   "metadata": {},
   "outputs": [],
   "source": [
    "# plt.hist(src_train_lens, np.max(src_train_lens))"
   ]
  },
  {
   "cell_type": "code",
   "execution_count": 6,
   "metadata": {},
   "outputs": [],
   "source": [
    "# plt.hist(tgt_train_lens[tgt_train_lens<100], 100)"
   ]
  },
  {
   "cell_type": "code",
   "execution_count": 7,
   "metadata": {},
   "outputs": [],
   "source": [
    "# plt.hist(src_val_lens, np.max(src_val_lens))"
   ]
  },
  {
   "cell_type": "code",
   "execution_count": 8,
   "metadata": {},
   "outputs": [],
   "source": [
    "# plt.hist(tgt_val_lens, np.max(tgt_val_lens))"
   ]
  },
  {
   "cell_type": "code",
   "execution_count": 9,
   "metadata": {},
   "outputs": [],
   "source": [
    "# test = np.arange(2000)\n",
    "# formal_train_tensors = torch.LongTensor(src_train[test]).to(device)\n",
    "# formal_train_lens_tensors = torch.LongTensor(src_train_lens[test]).to(device)\n",
    "# informal_train_tensors = torch.LongTensor(tgt_train[test]).to(device)\n",
    "# informal_train_lens_tensors = torch.LongTensor(tgt_train_lens[test]).to(device)\n",
    "\n",
    "# test_1= np.arange(1000)\n",
    "# formal_val_tensors = torch.LongTensor(src_val[test_1]).to(device)\n",
    "# formal_val_lens_tensors = torch.LongTensor(src_val_lens[test_1]).to(device)\n",
    "# informal_val_tensors = torch.LongTensor(tgt_val[test_1]).to(device)\n",
    "# informal_val_lens_tensors = torch.LongTensor(tgt_val_lens[test_1]).to(device)\n",
    "\n",
    "formal_train_tensors = torch.LongTensor(src_train).to(device)\n",
    "formal_train_lens_tensors = torch.LongTensor(src_train_lens).to(device)\n",
    "informal_train_tensors = torch.LongTensor(tgt_train).to(device)\n",
    "informal_train_lens_tensors = torch.LongTensor(tgt_train_lens).to(device)\n",
    "\n",
    "formal_val_tensors = torch.LongTensor(src_val).to(device)\n",
    "formal_val_lens_tensors = torch.LongTensor(src_val_lens).to(device)\n",
    "informal_val_tensors = torch.LongTensor(tgt_val).to(device)\n",
    "informal_val_lens_tensors = torch.LongTensor(tgt_val_lens).to(device)"
   ]
  },
  {
   "cell_type": "code",
   "execution_count": 10,
   "metadata": {},
   "outputs": [],
   "source": [
    "embedding_dim = 100\n",
    "num_layer = 4\n",
    "dropout = 0.5\n",
    "hidden_dim = 128\n",
    "batch_size = 64\n",
    "learning_rate=0.001\n",
    "vocab_size = sp_user.get_piece_size() #len(Glove.word2index)\n",
    "#embedding=None\n",
    "attn = 'general'\n",
    "style_1 = sp_user.piece_to_id('<informal>')\n",
    "style_2 = sp_user.piece_to_id('<formal>')\n",
    "\n",
    "embedding = nn.Embedding(num_embeddings=vocab_size, embedding_dim=embedding_dim, padding_idx=0)\n",
    "\n",
    "encoder = EncoderRNN(embedding=embedding, vocab_size=vocab_size, embedding_dim=embedding_dim, hidden_dim=hidden_dim, device=device ,\n",
    "                     num_layer=num_layer, dropout=dropout).to(device)\n",
    "\n",
    "decoder = DecoderRNN(embedding=embedding, attn_model=attn, vocab_size=vocab_size, embedding_dim=embedding_dim, \n",
    "                     hidden_dim=hidden_dim, device=device , num_layer=num_layer, dropout=dropout).to(device)\n",
    "\n",
    "textCNN = textCNN(seq_length=MAX_LEN, embedding_size=embedding_dim, \n",
    "                  num_labels=2, embedding=embedding, filter_sizes=[3, 4, 5], drop_out_rate=0.5, num_feature_maps=500).to(device)\n",
    "\n",
    "encoder_optimizer = optim.Adam(encoder.parameters(),lr=learning_rate)\n",
    "\n",
    "decoder_optimizer = optim.Adam(decoder.parameters(),lr=learning_rate)\n",
    "\n",
    "cnn_optimizer = optim.Adam(textCNN.parameters(),lr=learning_rate)\n",
    "\n",
    "\n",
    "\n",
    "\n",
    "\n"
   ]
  },
  {
   "cell_type": "code",
   "execution_count": 11,
   "metadata": {},
   "outputs": [
    {
     "name": "stdout",
     "output_type": "stream",
     "text": [
      "0.33333333333333337\n",
      "iter 1\n",
      "1984/2000, reconstruction loss: 18.69808578491211 classication loss: 0.07246771454811096 classfication accuracy: 0.65625\n",
      "Evalidation: 960/1000, loss:16.320494079589842 classication loss: 0.02457658350467682 classfication accuracy: 0.7875\n",
      "0m 19s (- 0m 39s) /ntrain rec loss: 21.897.  val rec loss: 0.022. /ntrain cnn loss: 0.022.  val cnn loss: 0.017. /ntrain cnn acc: 0.620.  val cnn acc: 0.727. \n",
      "val loss decreases from 100.000 to 14.960, save models\n",
      "val cnn acc increase from 0.000 to 0.727, save models\n",
      "women are acquisitive . give them both and they will say , \" it is not working well enough , darling .\"\n",
      "\n",
      "\n",
      "women are greedy , give them the both , and they will say , it isnot working good enough , honey\n",
      "\n",
      "\n",
      "\n",
      "-0.33333333333333326\n",
      "iter 2\n",
      "1984/2000, reconstruction loss: 18.05624771118164 classication loss: 0.03665769472718239 classfication accuracy: 0.84375\n",
      "Evalidation: 960/1000, loss:15.368641662597657 classication loss: 0.022864575684070586 classfication accuracy: 0.7625\n",
      "0m 41s (- 0m 20s) /ntrain rec loss: 13.169.  val rec loss: 0.014. /ntrain cnn loss: 0.014.  val cnn loss: 0.016. /ntrain cnn acc: 0.789.  val cnn acc: 0.758. \n",
      "val loss decreases from 14.960 to 14.016, save models\n",
      "val cnn acc increase from 0.727 to 0.758, save models\n",
      "women are acquisitive . give them both and they will say , \" it is not working well enough , darling .\"\n",
      "i i\n",
      "i i\n",
      "women are greedy , give them the both , and they will say , it isnot working good enough , honey\n",
      "i i\n",
      "i i\n",
      "\n",
      "-1.0\n",
      "iter 3\n",
      "1984/2000, reconstruction loss: 13.471698760986328 classication loss: 0.06404151767492294 classfication accuracy: 0.71875\n",
      "Evalidation: 960/1000, loss:14.628520202636718 classication loss: 0.02300536334514618 classfication accuracy: 0.7875\n",
      "1m 2s (- 0m 0s) /ntrain rec loss: 12.365.  val rec loss: 0.011. /ntrain cnn loss: 0.011.  val cnn loss: 0.015. /ntrain cnn acc: 0.861.  val cnn acc: 0.766. \n",
      "val loss decreases from 14.016 to 13.411, save models\n",
      "val cnn acc increase from 0.758 to 0.766, save models\n",
      "women are acquisitive . give them both and they will say , \" it is not working well enough , darling .\"\n",
      "i i i i i i i i i\n",
      "i i i i i i i i i\n",
      "women are greedy , give them the both , and they will say , it isnot working good enough , honey\n",
      "i i i i i i i i i\n",
      "i i i i i i i i i\n",
      "\n"
     ]
    },
    {
     "data": {
      "text/plain": [
       "<Figure size 432x288 with 0 Axes>"
      ]
     },
     "metadata": {},
     "output_type": "display_data"
    },
    {
     "data": {
      "image/png": "[encoded data removed]",
      "text/plain": [
       "<Figure size 432x288 with 1 Axes>"
      ]
     },
     "metadata": {
      "needs_background": "light"
     },
     "output_type": "display_data"
    },
    {
     "data": {
      "text/plain": [
       "<Figure size 432x288 with 0 Axes>"
      ]
     },
     "metadata": {},
     "output_type": "display_data"
    },
    {
     "data": {
      "image/png": "[encoded data removed]",
      "text/plain": [
       "<Figure size 432x288 with 1 Axes>"
      ]
     },
     "metadata": {
      "needs_background": "light"
     },
     "output_type": "display_data"
    },
    {
     "data": {
      "text/plain": [
       "<Figure size 432x288 with 0 Axes>"
      ]
     },
     "metadata": {},
     "output_type": "display_data"
    },
    {
     "data": {
      "image/png": "[encoded data removed]",
      "text/plain": [
       "<Figure size 432x288 with 1 Axes>"
      ]
     },
     "metadata": {
      "needs_background": "light"
     },
     "output_type": "display_data"
    }
   ],
   "source": [
    "output_seq, plot_train_rec_loss,plot_val_rec_loss,plot_train_cnn_loss,plot_val_cnn_loss,plot_train_cnn_acc,plot_val_cnn_acc = Train.train(formal_train_tensors, formal_train_lens_tensors, informal_train_tensors, informal_train_lens_tensors,\n",
    "            formal_val_tensors, formal_val_lens_tensors, informal_val_tensors, informal_val_lens_tensors,\n",
    "            style_1=style_1, style_2=style_2,\n",
    "            encoder=encoder, decoder=decoder, encoder_optimizer=encoder_optimizer, decoder_optimizer=decoder_optimizer, cnn_optimizer=cnn_optimizer,\n",
    "            epoches=200, batch_size=batch_size, print_every=1, plot_every=1, sp_user=sp_user, textCNN=textCNN, device=device)"
   ]
  },
  {
   "cell_type": "code",
   "execution_count": null,
   "metadata": {},
   "outputs": [],
   "source": [
    "# output_seq[0][0]"
   ]
  },
  {
   "cell_type": "code",
   "execution_count": null,
   "metadata": {},
   "outputs": [],
   "source": [
    "# for i in range(6):\n",
    "#     print(sp_user.decode_ids(output_seq[5][i].tolist()))"
   ]
  },
  {
   "cell_type": "code",
   "execution_count": null,
   "metadata": {},
   "outputs": [],
   "source": [
    "#print(encoder.embedding.weight)"
   ]
  },
  {
   "cell_type": "code",
   "execution_count": 12,
   "metadata": {},
   "outputs": [
    {
     "name": "stdout",
     "output_type": "stream",
     "text": [
      "[NbConvertApp] Converting notebook unsupervised.ipynb to script\n",
      "[NbConvertApp] Writing 4721 bytes to unsupervised.py\n"
     ]
    }
   ],
   "source": [
    "!jupyter nbconvert --to script unsupervised.ipynb"
   ]
  },
  {
   "cell_type": "code",
   "execution_count": null,
   "metadata": {},
   "outputs": [],
   "source": []
  },
  {
   "cell_type": "code",
   "execution_count": 22,
   "metadata": {},
   "outputs": [],
   "source": [
    "#a = torch.tensor([0,0,0,0,0,1,1,1])"
   ]
  },
  {
   "cell_type": "code",
   "execution_count": 26,
   "metadata": {},
   "outputs": [
    {
     "data": {
      "text/plain": [
       "tensor(3)"
      ]
     },
     "execution_count": 26,
     "metadata": {},
     "output_type": "execute_result"
    }
   ],
   "source": [
    "#torch.sum(a == 1)"
   ]
  },
  {
   "cell_type": "code",
   "execution_count": 27,
   "metadata": {},
   "outputs": [
    {
     "data": {
      "text/plain": [
       "torch.Size([8])"
      ]
     },
     "execution_count": 27,
     "metadata": {},
     "output_type": "execute_result"
    }
   ],
   "source": [
    "#a.size()"
   ]
  },
  {
   "cell_type": "code",
   "execution_count": null,
   "metadata": {},
   "outputs": [],
   "source": []
  }
 ],
 "metadata": {
  "kernelspec": {
   "display_name": "Python 3",
   "language": "python",
   "name": "python3"
  },
  "language_info": {
   "codemirror_mode": {
    "name": "ipython",
    "version": 3
   },
   "file_extension": ".py",
   "mimetype": "text/x-python",
   "name": "python",
   "nbconvert_exporter": "python",
   "pygments_lexer": "ipython3",
   "version": "3.7.3"
  }
 },
 "nbformat": 4,
 "nbformat_minor": 2
}
